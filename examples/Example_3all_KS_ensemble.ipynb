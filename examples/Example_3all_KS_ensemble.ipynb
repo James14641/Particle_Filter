{
 "cells": [
  {
   "cell_type": "code",
   "execution_count": null,
   "metadata": {},
   "outputs": [
    {
     "name": "stdout",
     "output_type": "stream",
     "text": [
      "True\n",
      "not currently supported.\n"
     ]
    }
   ],
   "source": [
    "import os\n",
    "os.environ[\"JAX_ENABLE_X64\"] = \"true\"\n",
    "import sys\n",
    "sys.path.append('..')\n",
    "import jax\n",
    "import jax.numpy as jnp\n",
    "import matplotlib.pyplot as plt\n",
    "from ipywidgets import interact\n",
    "from ml_collections import ConfigDict\n",
    "from models.ETD_KT_CM_JAX_Vectorised import *\n",
    "from filters import resamplers\n",
    "from filters.filter import ParticleFilter\n",
    "from filters.filter import ParticleFilterAll\n",
    "from jax import config\n",
    "jax.config.update(\"jax_enable_x64\", True)\n",
    "import numpy as np"
   ]
  },
  {
   "cell_type": "markdown",
   "metadata": {},
   "source": [
    "Initialisation of a twin experiment. "
   ]
  },
  {
   "cell_type": "code",
   "execution_count": 2,
   "metadata": {},
   "outputs": [],
   "source": [
    "signal_params = ConfigDict(KS_params_SALT)\n",
    "ensemble_params = ConfigDict(KS_params_SALT)\n",
    "ensemble_params.update(E=1,P=32,stochastic_advection_basis='constant')\n",
    "ensemble_params.update(E=128,P=32,stochastic_advection_basis='constant')"
   ]
  },
  {
   "cell_type": "markdown",
   "metadata": {},
   "source": [
    "Now we specify the models, by calling the class."
   ]
  },
  {
   "cell_type": "code",
   "execution_count": 3,
   "metadata": {},
   "outputs": [
    {
     "name": "stdout",
     "output_type": "stream",
     "text": [
      "Advection_basis_name: sin\n",
      "E: 128\n",
      "Forcing_basis_name: none\n",
      "P: 32\n",
      "S: 0\n",
      "c_0: 0\n",
      "c_1: 1\n",
      "c_2: 1\n",
      "c_3: 0.0\n",
      "c_4: 1\n",
      "dt: 0.25\n",
      "equation_name: Kuramoto-Sivashinsky\n",
      "initial_condition: Kassam_Trefethen_KS_IC\n",
      "method: Dealiased_SETDRK4\n",
      "noise_magnitude: 0.001\n",
      "nt: 600\n",
      "nx: 256\n",
      "stochastic_advection_basis: constant\n",
      "tmax: 150\n",
      "xmax: 100.53096491487338\n",
      "xmin: 0\n",
      " 600\n",
      "multinomial, systematic, no_resampling, none, default\n"
     ]
    }
   ],
   "source": [
    "signal_model = ETD_KT_CM_JAX_Vectorised(signal_params)\n",
    "ensemble_model = ETD_KT_CM_JAX_Vectorised(ensemble_params)\n",
    "\n",
    "initial_signal = initial_condition(signal_model.x, signal_params.E, signal_params.initial_condition)\n",
    "initial_ensemble = initial_condition(ensemble_model.x, ensemble_params.E, ensemble_params.initial_condition)\n",
    "\n",
    "print(ensemble_model.params,ensemble_model.params.nt)\n",
    "available_resamplers = \", \".join(resamplers.keys())\n",
    "print(available_resamplers)"
   ]
  },
  {
   "cell_type": "code",
   "execution_count": 4,
   "metadata": {},
   "outputs": [
    {
     "name": "stdout",
     "output_type": "stream",
     "text": [
      "Observation temporal frequency: 1\n",
      "Observation spatial locations:[  0  32  64  96 128 160 192 224]\n"
     ]
    }
   ],
   "source": [
    "observation_spatial_frequency = 32\n",
    "observation_locations = np.arange(0,signal_model.x.shape[0],observation_spatial_frequency)\n",
    "observation_noise = 0.5\n",
    "number_of_observations_time = 32 #ensemble_model.params.nt\n",
    "observation_temporal_frequency = int(ensemble_model.params.nt/number_of_observations_time)\n",
    "print(f\"Observation temporal frequency: {observation_temporal_frequency}\")\n",
    "print(f\"Observation spatial locations:{observation_locations}\")\n",
    "pf_systematic = ParticleFilterAll(\n",
    "    n_particles = ensemble_params.E,\n",
    "    n_steps = observation_temporal_frequency,\n",
    "    n_dim = initial_signal.shape[-1],\n",
    "    forward_model = ensemble_model,\n",
    "    signal_model = signal_model,\n",
    "    sigma = observation_noise,\n",
    "    resampling=\"systematic\",#'default',\n",
    "    observation_locations = observation_locations,\n",
    ")"
   ]
  },
  {
   "cell_type": "markdown",
   "metadata": {},
   "source": [
    "To run the filter with all outputs, the input arrays need to have 3 dimensions.\n",
    "They are (time, n_particles, space)."
   ]
  },
  {
   "cell_type": "code",
   "execution_count": 5,
   "metadata": {},
   "outputs": [
    {
     "name": "stdout",
     "output_type": "stream",
     "text": [
      "(128, 256) (1, 256) 600\n"
     ]
    }
   ],
   "source": [
    "da_steps = number_of_observations_time\n",
    "print(initial_ensemble.shape, initial_signal.shape, da_steps)\n",
    "initial_ensemble = initial_ensemble[None, ...] # adding the time dimension\n",
    "initial_signal = initial_signal[None, ...] # adding the time dimension\n",
    "key = jax.random.PRNGKey(0) # random key for JAX\n",
    "final, all = pf_systematic.run(initial_ensemble, initial_signal, da_steps,key) #the final input is scan length? "
   ]
  },
  {
   "cell_type": "code",
   "execution_count": 6,
   "metadata": {},
   "outputs": [
    {
     "name": "stdout",
     "output_type": "stream",
     "text": [
      "3 3\n"
     ]
    }
   ],
   "source": [
    "print(len(final), len(all))"
   ]
  },
  {
   "cell_type": "markdown",
   "metadata": {},
   "source": [
    "The two outputs are tuples. The first tuple has length 2 and contains the final ensemble and the final signal arrays.\n",
    "The second tuple has length three and contains all outputs through time of the ensemble, signal and observation."
   ]
  },
  {
   "cell_type": "code",
   "execution_count": 7,
   "metadata": {},
   "outputs": [
    {
     "name": "stdout",
     "output_type": "stream",
     "text": [
      "(600, 1, 128, 256)\n",
      "(600, 1, 1, 256)\n",
      "(600, 1, 256)\n",
      "(600, 128, 256)\n"
     ]
    },
    {
     "data": {
      "application/vnd.jupyter.widget-view+json": {
       "model_id": "df8a9b059b8441ed98019469b2935f8a",
       "version_major": 2,
       "version_minor": 0
      },
      "text/plain": [
       "interactive(children=(IntSlider(value=63, description='e', max=127), Output()), _dom_classes=('widget-interact…"
      ]
     },
     "metadata": {},
     "output_type": "display_data"
    },
    {
     "data": {
      "text/plain": [
       "<function __main__.plot_member(e)>"
      ]
     },
     "execution_count": 7,
     "metadata": {},
     "output_type": "execute_result"
    }
   ],
   "source": [
    "for i in range(3):\n",
    "    print(all[i].shape)\n",
    "arr = all[0]\n",
    "all_0_reshaped = jnp.reshape(arr, (-1, arr.shape[2], arr.shape[3]))\n",
    "print(all_0_reshaped.shape)\n",
    "def plot_member(e):\n",
    "    plt.imshow(all_0_reshaped[:, e, :], aspect='auto', origin='lower')\n",
    "    plt.title(f'Ensemble member {e}')\n",
    "    plt.xlabel('Space')\n",
    "    plt.ylabel('Time')\n",
    "    plt.show()\n",
    "\n",
    "interact(plot_member, e=(0, all_0_reshaped.shape[1] - 1))\n",
    "# plt.imshow(all_0_reshaped[:,2,:], aspect='auto', origin='lower')\n",
    "# plt.show()\n"
   ]
  },
  {
   "cell_type": "code",
   "execution_count": 8,
   "metadata": {},
   "outputs": [
    {
     "name": "stdout",
     "output_type": "stream",
     "text": [
      "(1, 128, 256)\n",
      "(1, 1, 256)\n"
     ]
    }
   ],
   "source": [
    "for i in range(2):\n",
    "    print(final[i].shape)"
   ]
  },
  {
   "cell_type": "markdown",
   "metadata": {},
   "source": [
    "Put in the initial condition."
   ]
  },
  {
   "cell_type": "code",
   "execution_count": 9,
   "metadata": {},
   "outputs": [
    {
     "name": "stdout",
     "output_type": "stream",
     "text": [
      "(1, 128, 256)\n",
      "(600, 1, 128, 256)\n",
      "(600, 128, 256)\n",
      "(601, 128, 256)\n",
      "(600, 1, 1, 256)\n",
      "(600, 1, 256)\n",
      "(1, 1, 256)\n",
      "(601, 1, 256)\n",
      "(600, 1, 256)\n",
      "(600, 1, 8)\n"
     ]
    }
   ],
   "source": [
    "print(initial_ensemble.shape)\n",
    "print(all[0].shape)\n",
    "all_0_reshaped = jnp.reshape(all[0], (-1, all[0].shape[2], all[0].shape[3]))\n",
    "print(all_0_reshaped.shape)\n",
    "\n",
    "particles =jnp.concatenate([initial_ensemble[...], all_0_reshaped], axis=0)\n",
    "print(particles.shape)\n",
    "\n",
    "print(all[1].shape)\n",
    "all_1_reshaped = jnp.reshape(all[1], (-1, all[1].shape[2], all[1].shape[3]))\n",
    "print(all_1_reshaped.shape)\n",
    "print(initial_signal.shape)\n",
    "signal = jnp.concatenate([initial_signal[...], all_1_reshaped], axis=0)\n",
    "print(signal.shape)\n",
    "print(all[2].shape)\n",
    "# observations = jnp.concatenate([initial_signal[...], all[2]], axis=0)\n",
    "observations = all[2][:,:, observation_locations]\n",
    "print(observations.shape)\n"
   ]
  },
  {
   "cell_type": "code",
   "execution_count": 10,
   "metadata": {},
   "outputs": [
    {
     "data": {
      "application/vnd.jupyter.widget-view+json": {
       "model_id": "79221c6f706a469cb1a06f6f51926b2e",
       "version_major": 2,
       "version_minor": 0
      },
      "text/plain": [
       "interactive(children=(IntSlider(value=299, description='time', max=599), Output()), _dom_classes=('widget-inte…"
      ]
     },
     "metadata": {},
     "output_type": "display_data"
    },
    {
     "data": {
      "text/plain": [
       "<function __main__.plot(time)>"
      ]
     },
     "execution_count": 10,
     "metadata": {},
     "output_type": "execute_result"
    }
   ],
   "source": [
    "def plot(time):\n",
    "    plt.plot(signal_model.x, signal[time,0,:], color='k',label='signal')\n",
    "    plt.plot(signal_model.x, particles[time,:,:].T, color='b',label='particles',linewidth=0.1)\n",
    "    if (time ) % observation_temporal_frequency == 0 and time !=0:\n",
    "        plt.plot(signal_model.x[observation_locations], observations[int(time/observation_temporal_frequency),0,:], 'ro',label='observations')\n",
    "    plt.show()\n",
    "\n",
    "interact(plot, time=(0, ensemble_model.params.nt - 1, 1))"
   ]
  }
 ],
 "metadata": {
  "kernelspec": {
   "display_name": "new_environment_python",
   "language": "python",
   "name": "python3"
  },
  "language_info": {
   "codemirror_mode": {
    "name": "ipython",
    "version": 3
   },
   "file_extension": ".py",
   "mimetype": "text/x-python",
   "name": "python",
   "nbconvert_exporter": "python",
   "pygments_lexer": "ipython3",
   "version": "3.13.3"
  }
 },
 "nbformat": 4,
 "nbformat_minor": 2
}
