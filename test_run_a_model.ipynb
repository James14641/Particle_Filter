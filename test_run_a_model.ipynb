{
 "cells": [
  {
   "cell_type": "code",
   "execution_count": 1,
   "metadata": {},
   "outputs": [],
   "source": [
    "import jax\n",
    "import jax.numpy as jnp\n",
    "import matplotlib.pyplot as plt\n",
    "from models.ETD_KT_CM_JAX_Vectorised import ETD_KT_CM_JAX_Vectorised, initial_condition\n",
    "from models.ETD_KT_CM_JAX_Vectorised import *#KDV_params, KS_params, Heat_params, Burgers_params\n",
    "from ml_collections import ConfigDict\n"
   ]
  },
  {
   "cell_type": "code",
   "execution_count": 2,
   "metadata": {},
   "outputs": [
    {
     "name": "stdout",
     "output_type": "stream",
     "text": [
      "E: 5\n",
      "P: 10\n",
      "S: 1\n",
      "c_0: 0\n",
      "c_1: 1\n",
      "c_2: 0.0\n",
      "c_3: 2.0e-05\n",
      "c_4: 0.0\n",
      "dt: 0.002\n",
      "ic: gaussian\n",
      "method: SS_ETDRK4_SSP33\n",
      "nx: 256\n",
      "sigma: 0.1\n",
      "tmax: 10\n",
      "xmax: 1\n",
      "xmin: 0\n",
      "\n"
     ]
    }
   ],
   "source": [
    "params = ConfigDict(KDV_params_2)\n",
    "print(params)\n",
    "params.update(E=10)\n",
    "params.update(P=10,S=1)\n",
    "params.update(sigma=0.001)"
   ]
  },
  {
   "cell_type": "code",
   "execution_count": 3,
   "metadata": {},
   "outputs": [
    {
     "name": "stderr",
     "output_type": "stream",
     "text": [
      "WARNING: All log messages before absl::InitializeLog() is called are written to STDERR\n",
      "I0000 00:00:1735862578.352377       1 tfrt_cpu_pjrt_client.cc:349] TfrtCpuClient created.\n"
     ]
    }
   ],
   "source": [
    "fwd_model = ETD_KT_CM_JAX_Vectorised(params)\n",
    "nt = int(params.tmax/params.dt)"
   ]
  },
  {
   "cell_type": "code",
   "execution_count": 4,
   "metadata": {},
   "outputs": [],
   "source": [
    "initial = initial_condition(fwd_model.x, params.E,params.ic)"
   ]
  },
  {
   "cell_type": "code",
   "execution_count": 5,
   "metadata": {},
   "outputs": [
    {
     "ename": "ValueError",
     "evalue": "Method SS_ETDRK4_SSP33 not recognised",
     "output_type": "error",
     "traceback": [
      "\u001b[0;31m---------------------------------------------------------------------------\u001b[0m",
      "\u001b[0;31mValueError\u001b[0m                                Traceback (most recent call last)",
      "Cell \u001b[0;32mIn[5], line 1\u001b[0m\n\u001b[0;32m----> 1\u001b[0m u_final, u_all \u001b[38;5;241m=\u001b[39m \u001b[43mfwd_model\u001b[49m\u001b[38;5;241;43m.\u001b[39;49m\u001b[43mrun\u001b[49m\u001b[43m(\u001b[49m\u001b[43minitial\u001b[49m\u001b[43m,\u001b[49m\u001b[43m \u001b[49m\u001b[43mnt\u001b[49m\u001b[43m,\u001b[49m\u001b[43m \u001b[49m\u001b[38;5;28;43;01mNone\u001b[39;49;00m\u001b[43m)\u001b[49m\n\u001b[1;32m      2\u001b[0m \u001b[38;5;28mprint\u001b[39m(u_final\u001b[38;5;241m.\u001b[39mshape)\n\u001b[1;32m      3\u001b[0m \u001b[38;5;28mprint\u001b[39m(u_final[\u001b[38;5;241m0\u001b[39m,\u001b[38;5;241m56\u001b[39m])\n",
      "File \u001b[0;32m~/Documents/GitHub/Particle_Filter/models/ETD_KT_CM_JAX_Vectorised.py:147\u001b[0m, in \u001b[0;36mETD_KT_CM_JAX_Vectorised.run\u001b[0;34m(self, initial_state, n_steps, noise)\u001b[0m\n\u001b[1;32m    144\u001b[0m         \u001b[38;5;28;01mreturn\u001b[39;00m y_next, y_next\n\u001b[1;32m    146\u001b[0m \u001b[38;5;28;01melse\u001b[39;00m:\n\u001b[0;32m--> 147\u001b[0m     \u001b[38;5;28;01mraise\u001b[39;00m \u001b[38;5;167;01mValueError\u001b[39;00m(\u001b[38;5;124mf\u001b[39m\u001b[38;5;124m\"\u001b[39m\u001b[38;5;124mMethod \u001b[39m\u001b[38;5;132;01m{\u001b[39;00m\u001b[38;5;28mself\u001b[39m\u001b[38;5;241m.\u001b[39mparams\u001b[38;5;241m.\u001b[39mmethod\u001b[38;5;132;01m}\u001b[39;00m\u001b[38;5;124m not recognised\u001b[39m\u001b[38;5;124m\"\u001b[39m)\n\u001b[1;32m    148\u001b[0m \u001b[38;5;66;03m# def scan_fn(y, i):\u001b[39;00m\n\u001b[1;32m    149\u001b[0m \u001b[38;5;66;03m#     y_next = self.step(y, noise_advective[i], noise_forcing[i])\u001b[39;00m\n\u001b[1;32m    150\u001b[0m \u001b[38;5;66;03m#     return y_next, y_next\u001b[39;00m\n\u001b[1;32m    152\u001b[0m u_out \u001b[38;5;241m=\u001b[39m jax\u001b[38;5;241m.\u001b[39mlax\u001b[38;5;241m.\u001b[39mscan(scan_fn, initial_state, jnp\u001b[38;5;241m.\u001b[39marange(n_steps))\n",
      "\u001b[0;31mValueError\u001b[0m: Method SS_ETDRK4_SSP33 not recognised"
     ]
    }
   ],
   "source": [
    "u_final, u_all = fwd_model.run(initial, nt, None)\n",
    "print(u_final.shape)\n",
    "print(u_final[0,56])"
   ]
  },
  {
   "cell_type": "code",
   "execution_count": null,
   "metadata": {},
   "outputs": [],
   "source": [
    "plt.title(f'Initial conditions')\n",
    "plt.plot(fwd_model.x, initial[0,:].squeeze(), color = 'black')\n",
    "plt.xlabel('$x$')\n",
    "plt.ylabel('$u$')\n",
    "plt.show()"
   ]
  },
  {
   "cell_type": "code",
   "execution_count": null,
   "metadata": {},
   "outputs": [],
   "source": [
    "plt.title(f'Final conditions')\n",
    "plt.plot(fwd_model.x, u_final[:, :].T, color='grey', linewidth=0.5)\n",
    "plt.plot(fwd_model.x, u_final[0,:].squeeze(), color = 'red')\n",
    "plt.xlabel('x')\n",
    "plt.ylabel('u')\n",
    "plt.show()"
   ]
  },
  {
   "cell_type": "code",
   "execution_count": null,
   "metadata": {},
   "outputs": [],
   "source": [
    "plt.title(f'Final time plot, mean and variance')\n",
    "plt.plot(fwd_model.x, u_final[:,:].T, color='grey', linewidth=0.5)\n",
    "plt.plot(fwd_model.x, u_final.mean(axis=0), color = 'red')\n",
    "plt.plot(fwd_model.x, u_final.mean(axis=0)+u_final.std(axis=0), linewidth=0.5, color = 'red',label=f'$\\mu + \\sigma$')\n",
    "plt.plot(fwd_model.x, u_final.mean(axis=0)-u_final.std(axis=0), linewidth=0.5, color = 'red')\n",
    "plt.xlabel('x')\n",
    "plt.ylabel('u')\n",
    "plt.legend()\n",
    "plt.show()"
   ]
  }
 ],
 "metadata": {
  "kernelspec": {
   "display_name": "virtual_python_environment1",
   "language": "python",
   "name": "python3"
  },
  "language_info": {
   "codemirror_mode": {
    "name": "ipython",
    "version": 3
   },
   "file_extension": ".py",
   "mimetype": "text/x-python",
   "name": "python",
   "nbconvert_exporter": "python",
   "pygments_lexer": "ipython3",
   "version": "3.10.15"
  }
 },
 "nbformat": 4,
 "nbformat_minor": 2
}
