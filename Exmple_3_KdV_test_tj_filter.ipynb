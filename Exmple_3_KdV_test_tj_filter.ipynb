{
 "cells": [
  {
   "cell_type": "code",
   "execution_count": 1,
   "metadata": {},
   "outputs": [
    {
     "name": "stdout",
     "output_type": "stream",
     "text": [
      "True\n"
     ]
    }
   ],
   "source": [
    "import jax\n",
    "import jax.numpy as jnp\n",
    "import matplotlib.pyplot as plt\n",
    "from ipywidgets import interact\n",
    "from ml_collections import ConfigDict\n",
    "from models.ETD_KT_CM_JAX_Vectorised import *\n",
    "from filters import resamplers\n",
    "from filters.filter import ParticleFilter_tempered_jittered\n",
    "from jax import config\n",
    "jax.config.update(\"jax_enable_x64\", True)\n",
    "import numpy as np"
   ]
  },
  {
   "cell_type": "markdown",
   "metadata": {},
   "source": [
    "Initialisation of a twin experiment. "
   ]
  },
  {
   "cell_type": "code",
   "execution_count": 2,
   "metadata": {},
   "outputs": [
    {
     "name": "stdout",
     "output_type": "stream",
     "text": [
      "Advection_basis_name: constant\n",
      "E: 1\n",
      "Forcing_basis_name: none\n",
      "P: 1\n",
      "S: 0\n",
      "c_0: 0\n",
      "c_1: 1\n",
      "c_2: 0.0\n",
      "c_3: 2.0e-05\n",
      "c_4: 0.0\n",
      "dt: 0.001\n",
      "equation_name: KdV\n",
      "initial_condition: gaussian\n",
      "method: Dealiased_SETDRK4\n",
      "noise_magnitude: 0.01\n",
      "nx: 256\n",
      "tmax: 4\n",
      "xmax: 1\n",
      "xmin: 0\n",
      "\n"
     ]
    }
   ],
   "source": [
    "signal_params = ConfigDict(KDV_params_2_SALT)\n",
    "print(signal_params)\n",
    "ensemble_params = ConfigDict(KDV_params_2_SALT)\n",
    "ensemble_params.update(E=1,P=32,stochastic_advection_basis='constant')\n",
    "ensemble_params.update(E=128,P=32,stochastic_advection_basis='constant')"
   ]
  },
  {
   "cell_type": "markdown",
   "metadata": {},
   "source": [
    "Now we specify the models, by calling the class."
   ]
  },
  {
   "cell_type": "code",
   "execution_count": 3,
   "metadata": {},
   "outputs": [
    {
     "name": "stdout",
     "output_type": "stream",
     "text": [
      "multinomial, systematic, no_resampling, default\n"
     ]
    }
   ],
   "source": [
    "signal_model = ETD_KT_CM_JAX_Vectorised(signal_params)\n",
    "ensemble_model = ETD_KT_CM_JAX_Vectorised(ensemble_params)\n",
    "\n",
    "initial_signal = initial_condition(signal_model.x, signal_params.E, signal_params.initial_condition)\n",
    "initial_ensemble = initial_condition(ensemble_model.x, ensemble_params.E, ensemble_params.initial_condition)\n",
    "\n",
    "available_resamplers = \", \".join(resamplers.keys())\n",
    "print(available_resamplers)"
   ]
  },
  {
   "cell_type": "code",
   "execution_count": 4,
   "metadata": {},
   "outputs": [
    {
     "name": "stdout",
     "output_type": "stream",
     "text": [
      "[  0   4   8  12  16  20  24  28  32  36  40  44  48  52  56  60  64  68\n",
      "  72  76  80  84  88  92  96 100 104 108 112 116 120 124 128 132 136 140\n",
      " 144 148 152 156 160 164 168 172 176 180 184 188 192 196 200 204 208 212\n",
      " 216 220 224 228 232 236 240 244 248 252]\n",
      "1\n"
     ]
    }
   ],
   "source": [
    "observation_spatial_frequency = 4\n",
    "observation_locations = np.arange(0,signal_model.x.shape[0],observation_spatial_frequency)\n",
    "observation_noise = 0.1\n",
    "number_of_observations_time = int(ensemble_model.nt/1)\n",
    "observation_temporal_frequency = int(ensemble_model.nt/number_of_observations_time)\n",
    "\n",
    "print(observation_locations)\n",
    "print(observation_temporal_frequency)\n",
    "pf_systematic = ParticleFilter_tempered_jittered(\n",
    "    n_particles = ensemble_params.E,\n",
    "    n_steps = observation_temporal_frequency,\n",
    "    n_dim = initial_signal.shape[-1],\n",
    "    forward_model = ensemble_model,\n",
    "    signal_model = signal_model,\n",
    "    sigma = observation_noise,\n",
    "    seed = 1,\n",
    "    resampling=\"default\",#'default',\n",
    "    observation_locations = observation_locations,\n",
    ")"
   ]
  },
  {
   "cell_type": "code",
   "execution_count": 5,
   "metadata": {},
   "outputs": [],
   "source": [
    "out = pf_systematic.run_step(initial_ensemble, initial_signal)"
   ]
  },
  {
   "cell_type": "code",
   "execution_count": 6,
   "metadata": {},
   "outputs": [
    {
     "name": "stdout",
     "output_type": "stream",
     "text": [
      "3\n",
      "(128, 256) (1, 256) (1, 256)\n"
     ]
    },
    {
     "data": {
      "text/plain": [
       "Array(64, dtype=int64)"
      ]
     },
     "execution_count": 6,
     "metadata": {},
     "output_type": "execute_result"
    }
   ],
   "source": [
    "print(len(out))\n",
    "ps, ss, obser = out\n",
    "print(ps.shape, ss.shape, obser.shape)\n",
    "jnp.count_nonzero(obser)\n"
   ]
  },
  {
   "cell_type": "code",
   "execution_count": 7,
   "metadata": {},
   "outputs": [],
   "source": [
    "da_steps = number_of_observations_time\n",
    "final, all = pf_systematic.run(initial_ensemble, initial_signal, da_steps) #the final input is scan length? "
   ]
  },
  {
   "cell_type": "markdown",
   "metadata": {},
   "source": [
    "Put in the initial condition."
   ]
  },
  {
   "cell_type": "code",
   "execution_count": 8,
   "metadata": {},
   "outputs": [
    {
     "name": "stdout",
     "output_type": "stream",
     "text": [
      "(4000, 1, 64)\n",
      "(4001, 128, 256)\n"
     ]
    }
   ],
   "source": [
    "particles =jnp.concatenate([initial_ensemble[None,...], all[0]], axis=0)\n",
    "signal = jnp.concatenate([initial_signal[None,...], all[1]], axis=0)\n",
    "observations = jnp.concatenate([initial_signal[None,...], all[2]], axis=0)\n",
    "observations = all[2][:,:, observation_locations]\n",
    "print(observations.shape)\n",
    "print(particles.shape)"
   ]
  },
  {
   "cell_type": "code",
   "execution_count": null,
   "metadata": {},
   "outputs": [
    {
     "data": {
      "application/vnd.jupyter.widget-view+json": {
       "model_id": "a811a1a1c83b4bfcb729256a4722753a",
       "version_major": 2,
       "version_minor": 0
      },
      "text/plain": [
       "interactive(children=(IntSlider(value=2000, description='da_step', max=4000), Output()), _dom_classes=('widget…"
      ]
     },
     "metadata": {},
     "output_type": "display_data"
    },
    {
     "data": {
      "text/plain": [
       "<function __main__.plot_all(da_step)>"
      ]
     },
     "execution_count": 9,
     "metadata": {},
     "output_type": "execute_result"
    }
   ],
   "source": [
    "def plot_all(da_step):\n",
    "    plt.figure(figsize=(12, 6))\n",
    "    # Plot signal\n",
    "    plt.plot(signal_model.x, signal[da_step, 0, :], color='k', label='Signal', linewidth=2)\n",
    "    # Plot all particles\n",
    "    plt.plot(signal_model.x, particles[da_step, :, :].T, color='b', linewidth=0.5, alpha=0.5, label='Particles')\n",
    "    # Plot observations\n",
    "    if da_step > 0:\n",
    "        plt.scatter(signal_model.x[observation_locations], observations[da_step - 1, 0, :], color='r', label='Observations', zorder=5)\n",
    "    plt.xlabel('Spatial Domain', fontsize=14)\n",
    "    plt.ylabel('Amplitude', fontsize=14)\n",
    "    plt.title(f'Data Assimilation Step {da_step}', fontsize=16)\n",
    "    plt.legend(fontsize=12)\n",
    "    plt.grid(True, linestyle='--', alpha=0.7)\n",
    "    plt.show()\n",
    "\n",
    "interact(plot_all, da_step=(0, da_steps))"
   ]
  }
 ],
 "metadata": {
  "kernelspec": {
   "display_name": "new_environment_python",
   "language": "python",
   "name": "python3"
  },
  "language_info": {
   "codemirror_mode": {
    "name": "ipython",
    "version": 3
   },
   "file_extension": ".py",
   "mimetype": "text/x-python",
   "name": "python",
   "nbconvert_exporter": "python",
   "pygments_lexer": "ipython3",
   "version": "3.13.3"
  }
 },
 "nbformat": 4,
 "nbformat_minor": 2
}
