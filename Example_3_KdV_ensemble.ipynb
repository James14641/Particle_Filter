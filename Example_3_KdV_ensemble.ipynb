{
 "cells": [
  {
   "cell_type": "code",
   "execution_count": 1,
   "metadata": {},
   "outputs": [
    {
     "name": "stdout",
     "output_type": "stream",
     "text": [
      "True\n",
      "not currently supported.\n"
     ]
    }
   ],
   "source": [
    "import jax\n",
    "import jax.numpy as jnp\n",
    "import matplotlib.pyplot as plt\n",
    "from ipywidgets import interact\n",
    "from ml_collections import ConfigDict\n",
    "from models.ETD_KT_CM_JAX_Vectorised import *\n",
    "from filters import resamplers\n",
    "from filters.filter import ParticleFilter\n",
    "from jax import config\n",
    "jax.config.update(\"jax_enable_x64\", True)\n",
    "import numpy as np"
   ]
  },
  {
   "cell_type": "markdown",
   "metadata": {},
   "source": [
    "Initialisation of a twin experiment. "
   ]
  },
  {
   "cell_type": "code",
   "execution_count": 2,
   "metadata": {},
   "outputs": [],
   "source": [
    "signal_params = ConfigDict(KDV_params_2_SALT)\n",
    "ensemble_params = ConfigDict(KDV_params_2_SALT)\n",
    "signal_params.update(E=1,P=3,noise_magnitude = 0.01,stochastic_advection_basis='sin')\n",
    "ensemble_params.update(E=128,P=3,noise_magnitude = 0.01,stochastic_advection_basis='sin')\n"
   ]
  },
  {
   "cell_type": "markdown",
   "metadata": {},
   "source": [
    "Now we specify the models, by calling the class."
   ]
  },
  {
   "cell_type": "code",
   "execution_count": 3,
   "metadata": {},
   "outputs": [
    {
     "name": "stdout",
     "output_type": "stream",
     "text": [
      "multinomial, systematic, no_resampling, none, default\n"
     ]
    }
   ],
   "source": [
    "signal_model = ETD_KT_CM_JAX_Vectorised(signal_params)\n",
    "ensemble_model = ETD_KT_CM_JAX_Vectorised(ensemble_params)\n",
    "\n",
    "initial_signal = initial_condition(signal_model.x, signal_params.E, signal_params.initial_condition)\n",
    "initial_ensemble = initial_condition(ensemble_model.x, ensemble_params.E, ensemble_params.initial_condition)\n",
    "\n",
    "available_resamplers = \", \".join(resamplers.keys())\n",
    "print(available_resamplers)"
   ]
  },
  {
   "cell_type": "code",
   "execution_count": null,
   "metadata": {},
   "outputs": [],
   "source": [
    "observation_spatial_frequency = 16\n",
    "observation_locations = np.arange(0,signal_model.x.shape[0],observation_spatial_frequency)\n",
    "observation_noise = 0.1\n",
    "number_of_observations_time = 32\n",
    "observation_temporal_frequency = int(ensemble_model.params.nt/number_of_observations_time)\n",
    "\n",
    "\n",
    "pf_systematic = ParticleFilter(\n",
    "    n_particles = ensemble_params.E,\n",
    "    n_steps = observation_temporal_frequency,\n",
    "    n_dim = initial_signal.shape[-1],\n",
    "    forward_model = ensemble_model,\n",
    "    signal_model = signal_model,\n",
    "    sigma = observation_noise,\n",
    "    seed = 1,\n",
    "    resampling=\"systematic\",#'default',\n",
    "    observation_locations = observation_locations,\n",
    ")"
   ]
  },
  {
   "cell_type": "code",
   "execution_count": 5,
   "metadata": {},
   "outputs": [],
   "source": [
    "da_steps = number_of_observations_time\n",
    "final, all = pf_systematic.run(initial_ensemble, initial_signal, da_steps) #the final input is scan length? \n"
   ]
  },
  {
   "cell_type": "markdown",
   "metadata": {},
   "source": [
    "Put in the initial condition."
   ]
  },
  {
   "cell_type": "code",
   "execution_count": 6,
   "metadata": {},
   "outputs": [
    {
     "name": "stdout",
     "output_type": "stream",
     "text": [
      "(32, 1, 16)\n",
      "(33, 128, 256)\n"
     ]
    }
   ],
   "source": [
    "particles =jnp.concatenate([initial_ensemble[None,...], all[0]], axis=0)\n",
    "signal = jnp.concatenate([initial_signal[None,...], all[1]], axis=0)\n",
    "observations = jnp.concatenate([initial_signal[None,...], all[2]], axis=0)\n",
    "observations = all[2][:,:, observation_locations]\n",
    "print(observations.shape)\n",
    "print(particles.shape)"
   ]
  },
  {
   "cell_type": "code",
   "execution_count": null,
   "metadata": {},
   "outputs": [
    {
     "data": {
      "application/vnd.jupyter.widget-view+json": {
       "model_id": "39df5898fc524250abf86c601a640c6f",
       "version_major": 2,
       "version_minor": 0
      },
      "text/plain": [
       "interactive(children=(IntSlider(value=16, description='da_step', max=32), Output()), _dom_classes=('widget-int…"
      ]
     },
     "metadata": {},
     "output_type": "display_data"
    },
    {
     "data": {
      "text/plain": [
       "<function __main__.plot(da_step)>"
      ]
     },
     "execution_count": 7,
     "metadata": {},
     "output_type": "execute_result"
    }
   ],
   "source": [
    "def plot(da_step):\n",
    "    plt.plot(signal_model.x, signal[da_step,0,:], color='k',label='signal')\n",
    "    plt.plot(signal_model.x, particles[da_step,:,:].T, color='b',label='particles',linewidth=0.1)\n",
    "    if da_step > 0:\n",
    "        plt.plot(signal_model.x[observation_locations], observations[da_step-1,0,:], 'ro',label='observations')\n",
    "    plt.show()\n",
    "\n",
    "interact(plot, da_step=(0, da_steps))\n"
   ]
  },
  {
   "cell_type": "code",
   "execution_count": 17,
   "metadata": {},
   "outputs": [
    {
     "ename": "UnexpectedTracerError",
     "evalue": "Encountered an unexpected tracer. A function transformed by JAX had a side effect, allowing for a reference to an intermediate value with type uint32[2] wrapped in a DynamicJaxprTracer to escape the scope of the transformation.\nJAX transformations require that functions explicitly return their outputs, and disallow saving intermediate values to global state.\nThe function being traced when the value leaked was scan_fn at /Users/jmw/Documents/GitHub/Particle_Filter/filters/filter.py:59 traced for scan.\n------------------------------\nThe leaked intermediate value was created on line /Users/jmw/Documents/GitHub/Particle_Filter/models/ETD_KT_CM_JAX_Vectorised.py:137:12 (ETD_KT_CM_JAX_Vectorised.run). \n------------------------------\nWhen the value was created, the final 5 stack frames (most recent last) excluding JAX-internal frames were:\n------------------------------\n/Users/jmw/Documents/GitHub/Particle_Filter/filters/filter.py:64:21 (ParticleFilter.run)\n/Users/jmw/Documents/GitHub/Particle_Filter/filters/filter.py:61:45 (ParticleFilter.run.<locals>.scan_fn)\n/Users/jmw/Documents/GitHub/Particle_Filter/filters/filter.py:44:17 (ParticleFilter.run_step)\n/Users/jmw/Documents/GitHub/Particle_Filter/filters/filter.py:20:20 (ParticleFilter.advance_signal)\n/Users/jmw/Documents/GitHub/Particle_Filter/models/ETD_KT_CM_JAX_Vectorised.py:137:12 (ETD_KT_CM_JAX_Vectorised.run)\n------------------------------\n\nTo catch the leak earlier, try setting the environment variable JAX_CHECK_TRACER_LEAKS or using the `jax.checking_leaks` context manager.\nSee https://docs.jax.dev/en/latest/errors.html#jax.errors.UnexpectedTracerError",
     "output_type": "error",
     "traceback": [
      "\u001b[31m---------------------------------------------------------------------------\u001b[39m",
      "\u001b[31mUnexpectedTracerError\u001b[39m                     Traceback (most recent call last)",
      "\u001b[36mCell\u001b[39m\u001b[36m \u001b[39m\u001b[32mIn[17]\u001b[39m\u001b[32m, line 17\u001b[39m\n\u001b[32m      4\u001b[39m initial_ensemble_1 = initial_condition(ensemble_model_1.x, ensemble_params_1.E, ensemble_params_1.initial_condition)\n\u001b[32m      6\u001b[39m pf_systematic_1 = ParticleFilter(\n\u001b[32m      7\u001b[39m     n_particles = ensemble_params_1.E,\n\u001b[32m      8\u001b[39m     n_steps = observation_temporal_frequency,\n\u001b[32m   (...)\u001b[39m\u001b[32m     15\u001b[39m     observation_locations = observation_locations,\n\u001b[32m     16\u001b[39m )\n\u001b[32m---> \u001b[39m\u001b[32m17\u001b[39m final, \u001b[38;5;28mall\u001b[39m = \u001b[43mpf_systematic_1\u001b[49m\u001b[43m.\u001b[49m\u001b[43mrun\u001b[49m\u001b[43m(\u001b[49m\u001b[43minitial_ensemble_1\u001b[49m\u001b[43m,\u001b[49m\u001b[43m \u001b[49m\u001b[43minitial_signal\u001b[49m\u001b[43m,\u001b[49m\u001b[43m \u001b[49m\u001b[43mda_steps\u001b[49m\u001b[43m)\u001b[49m \u001b[38;5;66;03m#the final input is scan length? \u001b[39;00m\n",
      "\u001b[36mFile \u001b[39m\u001b[32m~/Documents/GitHub/Particle_Filter/filters/filter.py:64\u001b[39m, in \u001b[36mParticleFilter.run\u001b[39m\u001b[34m(self, initial_particles, initial_signal, n_total)\u001b[39m\n\u001b[32m     61\u001b[39m     particles, signal, observation = \u001b[38;5;28mself\u001b[39m.run_step(particles, signal)\n\u001b[32m     62\u001b[39m     \u001b[38;5;28;01mreturn\u001b[39;00m (particles, signal), (particles, signal, observation)\n\u001b[32m---> \u001b[39m\u001b[32m64\u001b[39m final, \u001b[38;5;28mall\u001b[39m = \u001b[43mjax\u001b[49m\u001b[43m.\u001b[49m\u001b[43mlax\u001b[49m\u001b[43m.\u001b[49m\u001b[43mscan\u001b[49m\u001b[43m(\u001b[49m\u001b[43mscan_fn\u001b[49m\u001b[43m,\u001b[49m\u001b[43m \u001b[49m\u001b[43m(\u001b[49m\u001b[43minitial_particles\u001b[49m\u001b[43m,\u001b[49m\u001b[43m \u001b[49m\u001b[43minitial_signal\u001b[49m\u001b[43m)\u001b[49m\u001b[43m,\u001b[49m\u001b[43m \u001b[49m\u001b[43mjnp\u001b[49m\u001b[43m.\u001b[49m\u001b[43marange\u001b[49m\u001b[43m(\u001b[49m\u001b[43mn_total\u001b[49m\u001b[43m)\u001b[49m\u001b[43m)\u001b[49m\n\u001b[32m     65\u001b[39m \u001b[38;5;28;01mreturn\u001b[39;00m final, \u001b[38;5;28mall\u001b[39m\n",
      "    \u001b[31m[... skipping hidden 6 frame]\u001b[39m\n",
      "\u001b[36mFile \u001b[39m\u001b[32m~/new_environment_python/lib/python3.13/site-packages/jax/_src/core.py:1004\u001b[39m, in \u001b[36mcheck_eval_args\u001b[39m\u001b[34m(args)\u001b[39m\n\u001b[32m   1002\u001b[39m \u001b[38;5;28;01mfor\u001b[39;00m arg \u001b[38;5;129;01min\u001b[39;00m args:\n\u001b[32m   1003\u001b[39m   \u001b[38;5;28;01mif\u001b[39;00m \u001b[38;5;28misinstance\u001b[39m(arg, Tracer):\n\u001b[32m-> \u001b[39m\u001b[32m1004\u001b[39m     \u001b[38;5;28;01mraise\u001b[39;00m escaped_tracer_error(arg)\n",
      "\u001b[31mUnexpectedTracerError\u001b[39m: Encountered an unexpected tracer. A function transformed by JAX had a side effect, allowing for a reference to an intermediate value with type uint32[2] wrapped in a DynamicJaxprTracer to escape the scope of the transformation.\nJAX transformations require that functions explicitly return their outputs, and disallow saving intermediate values to global state.\nThe function being traced when the value leaked was scan_fn at /Users/jmw/Documents/GitHub/Particle_Filter/filters/filter.py:59 traced for scan.\n------------------------------\nThe leaked intermediate value was created on line /Users/jmw/Documents/GitHub/Particle_Filter/models/ETD_KT_CM_JAX_Vectorised.py:137:12 (ETD_KT_CM_JAX_Vectorised.run). \n------------------------------\nWhen the value was created, the final 5 stack frames (most recent last) excluding JAX-internal frames were:\n------------------------------\n/Users/jmw/Documents/GitHub/Particle_Filter/filters/filter.py:64:21 (ParticleFilter.run)\n/Users/jmw/Documents/GitHub/Particle_Filter/filters/filter.py:61:45 (ParticleFilter.run.<locals>.scan_fn)\n/Users/jmw/Documents/GitHub/Particle_Filter/filters/filter.py:44:17 (ParticleFilter.run_step)\n/Users/jmw/Documents/GitHub/Particle_Filter/filters/filter.py:20:20 (ParticleFilter.advance_signal)\n/Users/jmw/Documents/GitHub/Particle_Filter/models/ETD_KT_CM_JAX_Vectorised.py:137:12 (ETD_KT_CM_JAX_Vectorised.run)\n------------------------------\n\nTo catch the leak earlier, try setting the environment variable JAX_CHECK_TRACER_LEAKS or using the `jax.checking_leaks` context manager.\nSee https://docs.jax.dev/en/latest/errors.html#jax.errors.UnexpectedTracerError"
     ]
    }
   ],
   "source": [
    "ensemble_params_1 = ConfigDict(KDV_params_2_SALT)\n",
    "ensemble_params_1.update(E=128,P=3,noise_magnitude = 0.01,stochastic_advection_basis='sin')\n",
    "ensemble_model_1 = ETD_KT_CM_JAX_Vectorised(ensemble_params_1)\n",
    "initial_ensemble_1 = initial_condition(ensemble_model_1.x, ensemble_params_1.E, ensemble_params_1.initial_condition)\n",
    "\n",
    "pf_systematic_1 = ParticleFilter(\n",
    "    n_particles = ensemble_params_1.E,\n",
    "    n_steps = observation_temporal_frequency,\n",
    "    n_dim = initial_signal.shape[-1],\n",
    "    forward_model = ensemble_model_1,\n",
    "    signal_model = signal_model,\n",
    "    sigma = observation_noise,\n",
    "    seed = 1,\n",
    "    resampling=\"systematic\",#'default',\n",
    "    observation_locations = observation_locations,\n",
    ")\n",
    "final, all = pf_systematic_1.run(initial_ensemble_1, initial_signal, da_steps) #the final input is scan length? \n"
   ]
  }
 ],
 "metadata": {
  "kernelspec": {
   "display_name": "new_environment_python",
   "language": "python",
   "name": "python3"
  },
  "language_info": {
   "codemirror_mode": {
    "name": "ipython",
    "version": 3
   },
   "file_extension": ".py",
   "mimetype": "text/x-python",
   "name": "python",
   "nbconvert_exporter": "python",
   "pygments_lexer": "ipython3",
   "version": "3.13.3"
  }
 },
 "nbformat": 4,
 "nbformat_minor": 2
}
