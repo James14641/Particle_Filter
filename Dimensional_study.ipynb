{
 "cells": [
  {
   "cell_type": "code",
   "execution_count": 11,
   "metadata": {},
   "outputs": [],
   "source": [
    "import jax\n",
    "import jax.numpy as jnp\n",
    "import matplotlib.pyplot as plt\n",
    "from ipywidgets import interact\n",
    "from ml_collections import ConfigDict\n",
    "from models.ETD_KT_CM_JAX_Vectorised import *\n",
    "from filters import resamplers\n",
    "from filters.filter import ParticleFilter"
   ]
  },
  {
   "cell_type": "markdown",
   "metadata": {},
   "source": [
    "Specify initial setup of the signal, by first loading parameters from the stochastic traveling wave."
   ]
  },
  {
   "cell_type": "code",
   "execution_count": 12,
   "metadata": {},
   "outputs": [
    {
     "name": "stdout",
     "output_type": "stream",
     "text": [
      "Advection_basis_name: constant\n",
      "E: 3\n",
      "Forcing_basis_name: none\n",
      "P: 1\n",
      "S: 0\n",
      "c_0: 0\n",
      "c_1: 1\n",
      "c_2: 0.0\n",
      "c_3: 1\n",
      "c_4: 0.0\n",
      "dt: 0.0001\n",
      "equation_name: KdV\n",
      "initial_condition: traveling_wave\n",
      "method: StrangSplit_ETDRK4_SSP33\n",
      "nx: 64\n",
      "sigma: 1.0\n",
      "tmax: 1.0\n",
      "xmax: 3.141592653589793\n",
      "xmin: -3.141592653589793\n",
      "\n"
     ]
    }
   ],
   "source": [
    "signal_params = ConfigDict(KDV_params_traveling)\n",
    "print(signal_params)"
   ]
  },
  {
   "cell_type": "markdown",
   "metadata": {},
   "source": [
    "Next, we specify a signal, by choosing a deterministic solver, "
   ]
  },
  {
   "cell_type": "code",
   "execution_count": 13,
   "metadata": {},
   "outputs": [],
   "source": [
    "signal_params.update(E=1,method='ETDRK4',nx = 128,P=0,S=0)\n"
   ]
  },
  {
   "cell_type": "markdown",
   "metadata": {},
   "source": [
    "Now we continue to define a stochastic ensemble"
   ]
  },
  {
   "cell_type": "code",
   "execution_count": 14,
   "metadata": {},
   "outputs": [
    {
     "name": "stdout",
     "output_type": "stream",
     "text": [
      "Advection_basis_name: constant\n",
      "E: 10\n",
      "Forcing_basis_name: none\n",
      "P: 1\n",
      "S: 0\n",
      "c_0: 0\n",
      "c_1: 1\n",
      "c_2: 0.0\n",
      "c_3: 1\n",
      "c_4: 0.0\n",
      "dt: 0.0001\n",
      "equation_name: KdV\n",
      "initial_condition: traveling_wave\n",
      "method: StrangSplit_ETDRK4_SSP33\n",
      "nx: 128\n",
      "sigma: 0.5\n",
      "tmax: 1.0\n",
      "xmax: 3.141592653589793\n",
      "xmin: -3.141592653589793\n",
      "\n"
     ]
    }
   ],
   "source": [
    "\n",
    "ensemble_params = ConfigDict(KDV_params_traveling)\n",
    "ensemble_params.update(method='StrangSplit_ETDRK4_SSP33',nx = 128, S=0, P=1)\n",
    "ensemble_params.update(E=10)\n",
    "ensemble_params.update(sigma=0.5)\n",
    "print(ensemble_params)\n"
   ]
  },
  {
   "cell_type": "markdown",
   "metadata": {},
   "source": [
    "Now we specify the models, by calling the class."
   ]
  },
  {
   "cell_type": "code",
   "execution_count": 15,
   "metadata": {},
   "outputs": [
    {
     "name": "stdout",
     "output_type": "stream",
     "text": [
      "multinomial, systematic, no_resampling, default\n"
     ]
    }
   ],
   "source": [
    "signal_model = ETD_KT_CM_JAX_Vectorised(signal_params)\n",
    "ensemble_model = ETD_KT_CM_JAX_Vectorised(ensemble_params)\n",
    "\n",
    "initial_signal = initial_condition(signal_model.x, signal_params.E, signal_params.initial_condition)\n",
    "initial_ensemble = initial_condition(ensemble_model.x, ensemble_params.E, ensemble_params.initial_condition) \n",
    "\n",
    "available_resamplers = \", \".join(resamplers.keys())\n",
    "print(available_resamplers)\n"
   ]
  },
  {
   "cell_type": "code",
   "execution_count": 16,
   "metadata": {},
   "outputs": [],
   "source": [
    "pf_systematic = ParticleFilter(\n",
    "    n_particles = ensemble_params.E,\n",
    "    n_steps = 1,\n",
    "    n_dim = initial_signal.shape[-1],\n",
    "    forward_model = ensemble_model,\n",
    "    signal_model = signal_model,\n",
    "    sigma = 0.5,\n",
    "    seed = 11,\n",
    "    resampling='systematic',\n",
    ")\n",
    "# pf_no_resampling = ParticleFilter(\n",
    "#     n_particles = ensemble_params.E,\n",
    "#     n_steps = 1,\n",
    "#     n_dim = initial_signal.shape[-1],\n",
    "#     forward_model = ensemble_model,\n",
    "#     signal_model = signal_model,\n",
    "#     sigma = 0.01,\n",
    "#     seed = 11,\n",
    "#     resampling='no_resampling',\n",
    "# )"
   ]
  },
  {
   "cell_type": "code",
   "execution_count": 17,
   "metadata": {},
   "outputs": [],
   "source": [
    "final, all = pf_systematic.run(initial_ensemble, initial_signal, 10000) #the final input is scan length? "
   ]
  },
  {
   "cell_type": "code",
   "execution_count": 18,
   "metadata": {},
   "outputs": [
    {
     "name": "stdout",
     "output_type": "stream",
     "text": [
      "<class 'tuple'>\n",
      "3\n",
      "(10000, 10, 128)\n",
      "(10000, 1, 128)\n"
     ]
    }
   ],
   "source": [
    "print(type(all))\n",
    "print(len(all))\n",
    "print(all[0].shape) # particles\n",
    "print(all[1].shape) # signal\n",
    "#out shape is (n_total, n_particles, n_dim)"
   ]
  },
  {
   "cell_type": "code",
   "execution_count": 19,
   "metadata": {},
   "outputs": [
    {
     "name": "stdout",
     "output_type": "stream",
     "text": [
      "(1, 128)\n",
      "(10001, 1, 128)\n",
      "(10001, 10, 128)\n"
     ]
    }
   ],
   "source": [
    "print(initial_signal.shape)\n",
    "signal = jnp.concatenate([initial_signal[None,...], all[1]], axis=0)\n",
    "print(signal.shape)\n",
    "particles = jnp.concatenate([initial_ensemble[None,...], all[0]], axis=0)\n",
    "print(particles.shape)"
   ]
  },
  {
   "cell_type": "code",
   "execution_count": 23,
   "metadata": {},
   "outputs": [
    {
     "data": {
      "application/vnd.jupyter.widget-view+json": {
       "model_id": "3c0c0afcdf0249d487e4c548a2e69003",
       "version_major": 2,
       "version_minor": 0
      },
      "text/plain": [
       "interactive(children=(IntSlider(value=5000, description='da_step', max=10001), Output()), _dom_classes=('widge…"
      ]
     },
     "metadata": {},
     "output_type": "display_data"
    },
    {
     "data": {
      "text/plain": [
       "<function __main__.plot(da_step)>"
      ]
     },
     "execution_count": 23,
     "metadata": {},
     "output_type": "execute_result"
    }
   ],
   "source": [
    "def plot(da_step):\n",
    "    plt.plot(signal_model.x, signal[da_step,0,:], color='red')\n",
    "    plt.plot(signal_model.x, particles[da_step,:,:].T, color='k', linewidth=0.1)\n",
    "    plt.legend(['signal', 'particles'])\n",
    "    plt.show()\n",
    "\n",
    "interact(plot, da_step=(0, 10001))"
   ]
  },
  {
   "cell_type": "code",
   "execution_count": null,
   "metadata": {},
   "outputs": [],
   "source": []
  }
 ],
 "metadata": {
  "kernelspec": {
   "display_name": "virtual_python_environment1",
   "language": "python",
   "name": "python3"
  },
  "language_info": {
   "codemirror_mode": {
    "name": "ipython",
    "version": 3
   },
   "file_extension": ".py",
   "mimetype": "text/x-python",
   "name": "python",
   "nbconvert_exporter": "python",
   "pygments_lexer": "ipython3",
   "version": "3.10.15"
  }
 },
 "nbformat": 4,
 "nbformat_minor": 2
}
