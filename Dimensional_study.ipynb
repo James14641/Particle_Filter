{
 "cells": [
  {
   "cell_type": "code",
   "execution_count": 9,
   "metadata": {},
   "outputs": [],
   "source": [
    "import jax\n",
    "import jax.numpy as jnp\n",
    "import matplotlib.pyplot as plt\n",
    "from ipywidgets import interact\n",
    "from ml_collections import ConfigDict\n",
    "from models.ETD_KT_CM_JAX_Vectorised import *\n",
    "from filters import resamplers\n",
    "from filters.filter import ParticleFilter"
   ]
  },
  {
   "cell_type": "markdown",
   "metadata": {},
   "source": [
    "Specify initial setup of the signal, by first loading parameters from the stochastic traveling wave."
   ]
  },
  {
   "cell_type": "code",
   "execution_count": 10,
   "metadata": {},
   "outputs": [
    {
     "name": "stdout",
     "output_type": "stream",
     "text": [
      "Advection_basis_name: constant\n",
      "E: 30\n",
      "Forcing_basis_name: none\n",
      "P: 1\n",
      "S: 0\n",
      "c_0: 0\n",
      "c_1: 1\n",
      "c_2: 0.0\n",
      "c_3: 1\n",
      "c_4: 0.0\n",
      "dt: 0.0001\n",
      "equation_name: KdV\n",
      "initial_condition: traveling_wave\n",
      "method: Dealiased_SETDRK4\n",
      "noise_magnitude: 1.0\n",
      "nx: 64\n",
      "tmax: 1.0\n",
      "xmax: 3.141592653589793\n",
      "xmin: -3.141592653589793\n",
      "\n"
     ]
    }
   ],
   "source": [
    "signal_params = ConfigDict(KDV_params_traveling)\n",
    "print(signal_params)"
   ]
  },
  {
   "cell_type": "markdown",
   "metadata": {},
   "source": [
    "Next, we specify a signal, by choosing a deterministic solver, "
   ]
  },
  {
   "cell_type": "code",
   "execution_count": 11,
   "metadata": {},
   "outputs": [],
   "source": [
    "signal_params.update(E=1,method='ETDRK4',nx = 128,P=0,S=0)\n"
   ]
  },
  {
   "cell_type": "markdown",
   "metadata": {},
   "source": [
    "Now we continue to define a stochastic ensemble"
   ]
  },
  {
   "cell_type": "code",
   "execution_count": 12,
   "metadata": {},
   "outputs": [
    {
     "name": "stdout",
     "output_type": "stream",
     "text": [
      "Advection_basis_name: constant\n",
      "E: 10\n",
      "Forcing_basis_name: none\n",
      "P: 1\n",
      "S: 0\n",
      "c_0: 0\n",
      "c_1: 1\n",
      "c_2: 0.0\n",
      "c_3: 1\n",
      "c_4: 0.0\n",
      "dt: 0.0001\n",
      "equation_name: KdV\n",
      "initial_condition: traveling_wave\n",
      "method: StrangSplit_ETDRK4_SSP33\n",
      "noise_magnitude: 1.0\n",
      "nx: 128\n",
      "sigma: 5\n",
      "tmax: 1.0\n",
      "xmax: 3.141592653589793\n",
      "xmin: -3.141592653589793\n",
      "\n"
     ]
    }
   ],
   "source": [
    "\n",
    "ensemble_params = ConfigDict(KDV_params_traveling)\n",
    "ensemble_params.update(method='StrangSplit_ETDRK4_SSP33',nx = 128, S=0, P=1)\n",
    "ensemble_params.update(E=10)\n",
    "ensemble_params.update(sigma=5)\n",
    "print(ensemble_params)\n"
   ]
  },
  {
   "cell_type": "markdown",
   "metadata": {},
   "source": [
    "Now we specify the models, by calling the class."
   ]
  },
  {
   "cell_type": "code",
   "execution_count": 13,
   "metadata": {},
   "outputs": [
    {
     "name": "stdout",
     "output_type": "stream",
     "text": [
      "multinomial, systematic, no_resampling, default\n"
     ]
    }
   ],
   "source": [
    "signal_model = ETD_KT_CM_JAX_Vectorised(signal_params)\n",
    "ensemble_model = ETD_KT_CM_JAX_Vectorised(ensemble_params)\n",
    "\n",
    "initial_signal = initial_condition(signal_model.x, signal_params.E, signal_params.initial_condition)\n",
    "initial_ensemble = initial_condition(ensemble_model.x, ensemble_params.E, ensemble_params.initial_condition) \n",
    "\n",
    "available_resamplers = \", \".join(resamplers.keys())\n",
    "print(available_resamplers)\n"
   ]
  },
  {
   "cell_type": "code",
   "execution_count": 14,
   "metadata": {},
   "outputs": [],
   "source": [
    "pf_systematic = ParticleFilter(\n",
    "    n_particles = ensemble_params.E,\n",
    "    n_steps = 1,\n",
    "    n_dim = initial_signal.shape[-1],\n",
    "    forward_model = ensemble_model,\n",
    "    signal_model = signal_model,\n",
    "    sigma = 0.5,\n",
    "    seed = 11,\n",
    "    resampling='systematic',\n",
    ")\n",
    "# pf_no_resampling = ParticleFilter(\n",
    "#     n_particles = ensemble_params.E,\n",
    "#     n_steps = 1,\n",
    "#     n_dim = initial_signal.shape[-1],\n",
    "#     forward_model = ensemble_model,\n",
    "#     signal_model = signal_model,\n",
    "#     sigma = 0.01,\n",
    "#     seed = 11,\n",
    "#     resampling='no_resampling',\n",
    "# )"
   ]
  },
  {
   "cell_type": "code",
   "execution_count": 15,
   "metadata": {},
   "outputs": [
    {
     "ename": "ValueError",
     "evalue": "Method ETDRK4 not recognised",
     "output_type": "error",
     "traceback": [
      "\u001b[0;31m---------------------------------------------------------------------------\u001b[0m",
      "\u001b[0;31mValueError\u001b[0m                                Traceback (most recent call last)",
      "Cell \u001b[0;32mIn[15], line 1\u001b[0m\n\u001b[0;32m----> 1\u001b[0m final, \u001b[38;5;28mall\u001b[39m \u001b[38;5;241m=\u001b[39m \u001b[43mpf_systematic\u001b[49m\u001b[38;5;241;43m.\u001b[39;49m\u001b[43mrun\u001b[49m\u001b[43m(\u001b[49m\u001b[43minitial_ensemble\u001b[49m\u001b[43m,\u001b[49m\u001b[43m \u001b[49m\u001b[43minitial_signal\u001b[49m\u001b[43m,\u001b[49m\u001b[43m \u001b[49m\u001b[38;5;241;43m10000\u001b[39;49m\u001b[43m)\u001b[49m \u001b[38;5;66;03m#the final input is scan length? \u001b[39;00m\n",
      "File \u001b[0;32m~/Documents/GitHub/Particle_Filter/filters/filter.py:62\u001b[0m, in \u001b[0;36mParticleFilter.run\u001b[0;34m(self, initial_particles, initial_signal, n_total)\u001b[0m\n\u001b[1;32m     59\u001b[0m     particles, signal, observation \u001b[38;5;241m=\u001b[39m \u001b[38;5;28mself\u001b[39m\u001b[38;5;241m.\u001b[39mrun_step(particles, signal)\n\u001b[1;32m     60\u001b[0m     \u001b[38;5;28;01mreturn\u001b[39;00m (particles, signal), (particles, signal, observation)\n\u001b[0;32m---> 62\u001b[0m final, \u001b[38;5;28mall\u001b[39m \u001b[38;5;241m=\u001b[39m \u001b[43mjax\u001b[49m\u001b[38;5;241;43m.\u001b[39;49m\u001b[43mlax\u001b[49m\u001b[38;5;241;43m.\u001b[39;49m\u001b[43mscan\u001b[49m\u001b[43m(\u001b[49m\u001b[43mscan_fn\u001b[49m\u001b[43m,\u001b[49m\u001b[43m \u001b[49m\u001b[43m(\u001b[49m\u001b[43minitial_particles\u001b[49m\u001b[43m,\u001b[49m\u001b[43m \u001b[49m\u001b[43minitial_signal\u001b[49m\u001b[43m)\u001b[49m\u001b[43m,\u001b[49m\u001b[43m \u001b[49m\u001b[43mjnp\u001b[49m\u001b[38;5;241;43m.\u001b[39;49m\u001b[43marange\u001b[49m\u001b[43m(\u001b[49m\u001b[43mn_total\u001b[49m\u001b[43m)\u001b[49m\u001b[43m)\u001b[49m\n\u001b[1;32m     63\u001b[0m \u001b[38;5;28;01mreturn\u001b[39;00m final, \u001b[38;5;28mall\u001b[39m\n",
      "    \u001b[0;31m[... skipping hidden 10 frame]\u001b[0m\n",
      "File \u001b[0;32m~/Documents/GitHub/Particle_Filter/filters/filter.py:59\u001b[0m, in \u001b[0;36mParticleFilter.run.<locals>.scan_fn\u001b[0;34m(val, i)\u001b[0m\n\u001b[1;32m     57\u001b[0m \u001b[38;5;28;01mdef\u001b[39;00m \u001b[38;5;21mscan_fn\u001b[39m(val, i):\n\u001b[1;32m     58\u001b[0m     particles, signal \u001b[38;5;241m=\u001b[39m val\n\u001b[0;32m---> 59\u001b[0m     particles, signal, observation \u001b[38;5;241m=\u001b[39m \u001b[38;5;28;43mself\u001b[39;49m\u001b[38;5;241;43m.\u001b[39;49m\u001b[43mrun_step\u001b[49m\u001b[43m(\u001b[49m\u001b[43mparticles\u001b[49m\u001b[43m,\u001b[49m\u001b[43m \u001b[49m\u001b[43msignal\u001b[49m\u001b[43m)\u001b[49m\n\u001b[1;32m     60\u001b[0m     \u001b[38;5;28;01mreturn\u001b[39;00m (particles, signal), (particles, signal, observation)\n",
      "File \u001b[0;32m~/Documents/GitHub/Particle_Filter/filters/filter.py:42\u001b[0m, in \u001b[0;36mParticleFilter.run_step\u001b[0;34m(self, particles, signal)\u001b[0m\n\u001b[1;32m     40\u001b[0m \u001b[38;5;28;01mdef\u001b[39;00m \u001b[38;5;21mrun_step\u001b[39m(\u001b[38;5;28mself\u001b[39m, particles, signal):\n\u001b[1;32m     41\u001b[0m     \u001b[38;5;28mself\u001b[39m\u001b[38;5;241m.\u001b[39mkey, obs_key, sampling_key \u001b[38;5;241m=\u001b[39m jax\u001b[38;5;241m.\u001b[39mrandom\u001b[38;5;241m.\u001b[39msplit(\u001b[38;5;28mself\u001b[39m\u001b[38;5;241m.\u001b[39mkey, \u001b[38;5;241m3\u001b[39m)\n\u001b[0;32m---> 42\u001b[0m     signal \u001b[38;5;241m=\u001b[39m \u001b[38;5;28;43mself\u001b[39;49m\u001b[38;5;241;43m.\u001b[39;49m\u001b[43madvance_signal\u001b[49m\u001b[43m(\u001b[49m\u001b[43msignal\u001b[49m\u001b[43m)\u001b[49m\n\u001b[1;32m     43\u001b[0m     particles \u001b[38;5;241m=\u001b[39m \u001b[38;5;28mself\u001b[39m\u001b[38;5;241m.\u001b[39mpredict(particles)\n\u001b[1;32m     44\u001b[0m     observation \u001b[38;5;241m=\u001b[39m \u001b[38;5;28mself\u001b[39m\u001b[38;5;241m.\u001b[39mobservation_from_signal(signal, obs_key)\n",
      "File \u001b[0;32m~/Documents/GitHub/Particle_Filter/filters/filter.py:20\u001b[0m, in \u001b[0;36mParticleFilter.advance_signal\u001b[0;34m(self, signal_position)\u001b[0m\n\u001b[1;32m     19\u001b[0m \u001b[38;5;28;01mdef\u001b[39;00m \u001b[38;5;21madvance_signal\u001b[39m(\u001b[38;5;28mself\u001b[39m, signal_position):\n\u001b[0;32m---> 20\u001b[0m     signal, _ \u001b[38;5;241m=\u001b[39m \u001b[38;5;28;43mself\u001b[39;49m\u001b[38;5;241;43m.\u001b[39;49m\u001b[43msignal_model\u001b[49m\u001b[38;5;241;43m.\u001b[39;49m\u001b[43mrun\u001b[49m\u001b[43m(\u001b[49m\u001b[43msignal_position\u001b[49m\u001b[43m,\u001b[49m\u001b[43m \u001b[49m\u001b[38;5;28;43mself\u001b[39;49m\u001b[38;5;241;43m.\u001b[39;49m\u001b[43mn_steps\u001b[49m\u001b[43m,\u001b[49m\u001b[43m \u001b[49m\u001b[38;5;28;43;01mNone\u001b[39;49;00m\u001b[43m)\u001b[49m\n\u001b[1;32m     21\u001b[0m     \u001b[38;5;28;01mreturn\u001b[39;00m signal\n",
      "File \u001b[0;32m~/Documents/GitHub/Particle_Filter/models/ETD_KT_CM_JAX_Vectorised.py:174\u001b[0m, in \u001b[0;36mETD_KT_CM_JAX_Vectorised.run\u001b[0;34m(self, initial_state, n_steps, noise)\u001b[0m\n\u001b[1;32m    171\u001b[0m         \u001b[38;5;28;01mreturn\u001b[39;00m y_next, y_next\n\u001b[1;32m    173\u001b[0m \u001b[38;5;28;01melse\u001b[39;00m:\n\u001b[0;32m--> 174\u001b[0m     \u001b[38;5;28;01mraise\u001b[39;00m \u001b[38;5;167;01mValueError\u001b[39;00m(\u001b[38;5;124mf\u001b[39m\u001b[38;5;124m\"\u001b[39m\u001b[38;5;124mMethod \u001b[39m\u001b[38;5;132;01m{\u001b[39;00m\u001b[38;5;28mself\u001b[39m\u001b[38;5;241m.\u001b[39mparams\u001b[38;5;241m.\u001b[39mmethod\u001b[38;5;132;01m}\u001b[39;00m\u001b[38;5;124m not recognised\u001b[39m\u001b[38;5;124m\"\u001b[39m)\n\u001b[1;32m    176\u001b[0m u_out \u001b[38;5;241m=\u001b[39m jax\u001b[38;5;241m.\u001b[39mlax\u001b[38;5;241m.\u001b[39mscan(scan_fn, initial_state, jnp\u001b[38;5;241m.\u001b[39marange(n_steps))\n\u001b[1;32m    178\u001b[0m \u001b[38;5;28;01mreturn\u001b[39;00m u_out\n",
      "\u001b[0;31mValueError\u001b[0m: Method ETDRK4 not recognised"
     ]
    }
   ],
   "source": [
    "final, all = pf_systematic.run(initial_ensemble, initial_signal, 10000) #the final input is scan length? "
   ]
  },
  {
   "cell_type": "code",
   "execution_count": null,
   "metadata": {},
   "outputs": [
    {
     "name": "stdout",
     "output_type": "stream",
     "text": [
      "<class 'tuple'>\n",
      "3\n",
      "(10000, 10, 128)\n",
      "(10000, 1, 128)\n"
     ]
    }
   ],
   "source": [
    "print(type(all))\n",
    "print(len(all))\n",
    "print(all[0].shape) # particles\n",
    "print(all[1].shape) # signal\n",
    "#out shape is (n_total, n_particles, n_dim)"
   ]
  },
  {
   "cell_type": "code",
   "execution_count": null,
   "metadata": {},
   "outputs": [
    {
     "name": "stdout",
     "output_type": "stream",
     "text": [
      "(1, 128)\n",
      "(10001, 1, 128)\n",
      "(10001, 10, 128)\n"
     ]
    }
   ],
   "source": [
    "print(initial_signal.shape)\n",
    "signal = jnp.concatenate([initial_signal[None,...], all[1]], axis=0)\n",
    "print(signal.shape)\n",
    "particles = jnp.concatenate([initial_ensemble[None,...], all[0]], axis=0)\n",
    "print(particles.shape)"
   ]
  },
  {
   "cell_type": "code",
   "execution_count": null,
   "metadata": {},
   "outputs": [
    {
     "data": {
      "application/vnd.jupyter.widget-view+json": {
       "model_id": "2b5fcd9a94404b49ba7f0aa91da2c88f",
       "version_major": 2,
       "version_minor": 0
      },
      "text/plain": [
       "interactive(children=(IntSlider(value=5000, description='da_step', max=10001), Output()), _dom_classes=('widge…"
      ]
     },
     "metadata": {},
     "output_type": "display_data"
    },
    {
     "data": {
      "text/plain": [
       "<function __main__.plot(da_step)>"
      ]
     },
     "execution_count": 34,
     "metadata": {},
     "output_type": "execute_result"
    }
   ],
   "source": [
    "def plot(da_step):\n",
    "    plt.plot(signal_model.x, signal[da_step,0,:], color='red')\n",
    "    plt.plot(signal_model.x, particles[da_step,:,:].T, color='k', linewidth=0.1)\n",
    "    plt.legend(['signal', 'particles'])\n",
    "    plt.show()\n",
    "\n",
    "interact(plot, da_step=(0, 10001))"
   ]
  },
  {
   "cell_type": "code",
   "execution_count": null,
   "metadata": {},
   "outputs": [],
   "source": []
  }
 ],
 "metadata": {
  "kernelspec": {
   "display_name": "virtual_python_environment1",
   "language": "python",
   "name": "python3"
  },
  "language_info": {
   "codemirror_mode": {
    "name": "ipython",
    "version": 3
   },
   "file_extension": ".py",
   "mimetype": "text/x-python",
   "name": "python",
   "nbconvert_exporter": "python",
   "pygments_lexer": "ipython3",
   "version": "3.10.17"
  }
 },
 "nbformat": 4,
 "nbformat_minor": 2
}
