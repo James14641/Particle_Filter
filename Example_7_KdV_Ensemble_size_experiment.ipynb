{
 "cells": [
  {
   "cell_type": "code",
   "execution_count": null,
   "metadata": {},
   "outputs": [
    {
     "name": "stdout",
     "output_type": "stream",
     "text": [
      "True\n"
     ]
    }
   ],
   "source": [
    "import os\n",
    "os.environ[\"JAX_ENABLE_X64\"] = \"true\"\n",
    "import jax\n",
    "import jax.numpy as jnp\n",
    "import matplotlib.pyplot as plt\n",
    "from ipywidgets import interact\n",
    "from ml_collections import ConfigDict\n",
    "from models.ETD_KT_CM_JAX_Vectorised import *\n",
    "from filters import resamplers\n",
    "from filters.filter import ParticleFilter\n",
    "jax.config.update(\"jax_platform_name\", \"cpu\")\n",
    "import metrics.ensemble as ens_metrics\n",
    "from jax import config\n",
    "config.update(\"jax_enable_x64\", True)"
   ]
  },
  {
   "cell_type": "markdown",
   "metadata": {},
   "source": [
    "In this experiment we perform a increase in particle members, to assess how this effects forecast skill scores in an idealised testing environment. "
   ]
  },
  {
   "cell_type": "code",
   "execution_count": 2,
   "metadata": {},
   "outputs": [
    {
     "name": "stdout",
     "output_type": "stream",
     "text": [
      "Advection_basis_name: none\n",
      "E: 1\n",
      "Forcing_basis_name: none\n",
      "P: 1\n",
      "S: 0\n",
      "c_0: 0\n",
      "c_1: 1\n",
      "c_2: 0.0\n",
      "c_3: 2.0e-05\n",
      "c_4: 0.0\n",
      "dt: 0.001\n",
      "equation_name: KdV\n",
      "initial_condition: gaussian\n",
      "method: Dealiased_SETDRK4\n",
      "noise_magnitude: 0.0\n",
      "nx: 256\n",
      "tmax: 1\n",
      "xmax: 1\n",
      "xmin: 0\n",
      "\n"
     ]
    }
   ],
   "source": [
    "signal_params = ConfigDict(KDV_params_2)\n",
    "print(signal_params)"
   ]
  },
  {
   "cell_type": "code",
   "execution_count": null,
   "metadata": {},
   "outputs": [],
   "source": [
    "ensemble_params_1 = ConfigDict(KDV_params_2_SALT)\n",
    "ensemble_params_2 = ConfigDict(KDV_params_2_SALT)\n",
    "ensemble_params_3 = ConfigDict(KDV_params_2_SALT)\n",
    "ensemble_params_4 = ConfigDict(KDV_params_2_SALT)\n",
    "ensemble_params_5 = ConfigDict(KDV_params_2_SALT)\n",
    "ensemble_params_6 = ConfigDict(KDV_params_2_SALT)\n",
    "ensemble_params_7 = ConfigDict(KDV_params_2_SALT)\n",
    "ensemble_params_8 = ConfigDict(KDV_params_2_SALT)\n"
   ]
  },
  {
   "cell_type": "markdown",
   "metadata": {},
   "source": [
    "Next, we specify a signal, by choosing a deterministic solver, "
   ]
  },
  {
   "cell_type": "code",
   "execution_count": null,
   "metadata": {},
   "outputs": [],
   "source": [
    "nx_new = 32\n",
    "signal_params.update(E=1,method='Dealiased_ETDRK4',P=1,S=0,tmax=4,nmax=256*4,nx=nx_new)\n",
    "ensemble_params_1.update(E=16,noise_magnitude=0.001,P=32,tmax=4,nmax=256*4,nx=nx_new)\n",
    "ensemble_params_2.update(E=32,noise_magnitude=0.001,P=32,tmax=4,nmax=256*4,nx=nx_new)\n",
    "ensemble_params_3.update(E=64,noise_magnitude=0.001,P=32,tmax=4,nmax=256*4,nx=nx_new)\n",
    "ensemble_params_4.update(E=128,noise_magnitude=0.001,P=32,tmax=4,nmax=256*4,nx=nx_new)\n",
    "ensemble_params_5.update(E=256,noise_magnitude=0.001,P=32,tmax=4,nmax=256*4,nx=nx_new)\n",
    "ensemble_params_6.update(E=512,noise_magnitude=0.001,P=32,tmax=4,nmax=256*4,nx=nx_new)\n",
    "ensemble_params_7.update(E=1024,noise_magnitude=0.001,P=32,tmax=4,nmax=256*4,nx=nx_new)\n",
    "ensemble_params_8.update(E=2048,noise_magnitude=0.001,P=32,tmax=4,nmax=256*4,nx=nx_new)"
   ]
  },
  {
   "cell_type": "markdown",
   "metadata": {},
   "source": [
    "Now we continue to define a stochastic ensemble"
   ]
  },
  {
   "cell_type": "markdown",
   "metadata": {},
   "source": [
    "Now we specify the models, by calling the class."
   ]
  },
  {
   "cell_type": "code",
   "execution_count": null,
   "metadata": {},
   "outputs": [],
   "source": [
    "signal_model_1 = ETD_KT_CM_JAX_Vectorised(signal_params)\n",
    "signal_model_2 = ETD_KT_CM_JAX_Vectorised(signal_params)\n",
    "signal_model_3 = ETD_KT_CM_JAX_Vectorised(signal_params)\n",
    "signal_model_4 = ETD_KT_CM_JAX_Vectorised(signal_params)\n",
    "signal_model_5 = ETD_KT_CM_JAX_Vectorised(signal_params)\n",
    "signal_model_6 = ETD_KT_CM_JAX_Vectorised(signal_params)\n",
    "signal_model_7 = ETD_KT_CM_JAX_Vectorised(signal_params)\n",
    "signal_model_8 = ETD_KT_CM_JAX_Vectorised(signal_params)"
   ]
  },
  {
   "cell_type": "code",
   "execution_count": null,
   "metadata": {},
   "outputs": [],
   "source": [
    "ensemble_model_1 = ETD_KT_CM_JAX_Vectorised(ensemble_params_1)\n",
    "ensemble_model_2 = ETD_KT_CM_JAX_Vectorised(ensemble_params_2)\n",
    "ensemble_model_3 = ETD_KT_CM_JAX_Vectorised(ensemble_params_3)\n",
    "ensemble_model_4 = ETD_KT_CM_JAX_Vectorised(ensemble_params_4)\n",
    "ensemble_model_5 = ETD_KT_CM_JAX_Vectorised(ensemble_params_5)\n",
    "ensemble_model_6 = ETD_KT_CM_JAX_Vectorised(ensemble_params_6)\n",
    "ensemble_model_7 = ETD_KT_CM_JAX_Vectorised(ensemble_params_7)\n",
    "ensemble_model_8 = ETD_KT_CM_JAX_Vectorised(ensemble_params_8)"
   ]
  },
  {
   "cell_type": "code",
   "execution_count": null,
   "metadata": {},
   "outputs": [
    {
     "name": "stdout",
     "output_type": "stream",
     "text": [
      "multinomial, systematic, no_resampling, default\n"
     ]
    }
   ],
   "source": [
    "\n",
    "initial_signal = initial_condition(signal_model_1.x, signal_params.E, signal_params.initial_condition)\n",
    "initial_ensemble_1 = initial_condition(ensemble_model_1.x, ensemble_params_1.E, ensemble_params_1.initial_condition)\n",
    "initial_ensemble_2 = initial_condition(ensemble_model_2.x, ensemble_params_2.E, ensemble_params_2.initial_condition)\n",
    "initial_ensemble_3 = initial_condition(ensemble_model_3.x, ensemble_params_3.E, ensemble_params_3.initial_condition)\n",
    "initial_ensemble_4 = initial_condition(ensemble_model_4.x, ensemble_params_4.E, ensemble_params_4.initial_condition)\n",
    "initial_ensemble_5 = initial_condition(ensemble_model_5.x, ensemble_params_5.E, ensemble_params_5.initial_condition)\n",
    "initial_ensemble_6 = initial_condition(ensemble_model_6.x, ensemble_params_6.E, ensemble_params_6.initial_condition)\n",
    "initial_ensemble_7 = initial_condition(ensemble_model_7.x, ensemble_params_7.E, ensemble_params_7.initial_condition)\n",
    "initial_ensemble_8 = initial_condition(ensemble_model_8.x, ensemble_params_8.E, ensemble_params_8.initial_condition)\n",
    "\n",
    "available_resamplers = \", \".join(resamplers.keys())\n",
    "print(available_resamplers)"
   ]
  },
  {
   "cell_type": "code",
   "execution_count": null,
   "metadata": {},
   "outputs": [],
   "source": [
    "obs_frequency = 32\n",
    "observation_noise = 1e-2\n",
    "observation_locations_params = jnp.arange(0,len(signal_model_1.x),obs_frequency)\n",
    "#observation_locations_params = None\n",
    "pf_1 = ParticleFilter(n_particles = ensemble_params_1.E,\n",
    "                      n_steps = 1,\n",
    "                      n_dim = initial_signal.shape[-1],\n",
    "                      forward_model = ensemble_model_1,\n",
    "                      signal_model = signal_model_1,\n",
    "                      sigma = observation_noise,# this seems to be different than the sigma for the xi.\n",
    "                      seed = 11,\n",
    "                      resampling='multinomial',\n",
    "                      observation_locations = observation_locations_params,)\n",
    "pf_2 = ParticleFilter(n_particles = ensemble_params_2.E,\n",
    "                        n_steps = 1,\n",
    "                        n_dim = initial_signal.shape[-1],\n",
    "                        forward_model = ensemble_model_2,\n",
    "                        signal_model = signal_model_2,\n",
    "                        sigma = observation_noise,# this seems to be different than the sigma for the xi.\n",
    "                        seed = 11,\n",
    "                        resampling='multinomial',\n",
    "                        observation_locations = observation_locations_params,)\n",
    "pf_3 = ParticleFilter(n_particles = ensemble_params_3.E,\n",
    "                        n_steps = 1,\n",
    "                        n_dim = initial_signal.shape[-1],\n",
    "                        forward_model = ensemble_model_3,\n",
    "                        signal_model = signal_model_3,\n",
    "                        sigma = observation_noise,# this seems to be different than the sigma for the xi.\n",
    "                        seed = 11,\n",
    "                        resampling='multinomial',\n",
    "                        observation_locations = observation_locations_params,)\n",
    "pf_4 = ParticleFilter(n_particles = ensemble_params_4.E,\n",
    "                        n_steps = 1,\n",
    "                        n_dim = initial_signal.shape[-1],\n",
    "                        forward_model = ensemble_model_4,\n",
    "                        signal_model = signal_model_4,\n",
    "                        sigma = observation_noise,# this seems to be different than the sigma for the xi.\n",
    "                        seed = 11,\n",
    "                        resampling='multinomial',\n",
    "                        observation_locations = observation_locations_params,)\n",
    "pf_5 = ParticleFilter(n_particles = ensemble_params_5.E,\n",
    "                        n_steps = 1,\n",
    "                        n_dim = initial_signal.shape[-1],\n",
    "                        forward_model = ensemble_model_5,\n",
    "                        signal_model = signal_model_5,\n",
    "                        sigma = observation_noise,# this seems to be different than the sigma for the xi.\n",
    "                        seed = 11,\n",
    "                        resampling='multinomial',\n",
    "                        observation_locations = observation_locations_params,)\n",
    "pf_6 = ParticleFilter(n_particles = ensemble_params_6.E,\n",
    "                        n_steps = 1,\n",
    "                        n_dim = initial_signal.shape[-1],\n",
    "                        forward_model = ensemble_model_6,\n",
    "                        signal_model = signal_model_6,\n",
    "                        sigma = observation_noise,# this seems to be different than the sigma for the xi.\n",
    "                        seed = 11,\n",
    "                        resampling='multinomial',\n",
    "                        observation_locations = observation_locations_params,)\n",
    "pf_7 = ParticleFilter(n_particles = ensemble_params_7.E,\n",
    "                        n_steps = 1,\n",
    "                        n_dim = initial_signal.shape[-1],\n",
    "                        forward_model = ensemble_model_7,\n",
    "                        signal_model = signal_model_7,\n",
    "                        sigma = observation_noise,# this seems to be different than the sigma for the xi.\n",
    "                        seed = 11,\n",
    "                        resampling='multinomial',\n",
    "                        observation_locations = observation_locations_params,)\n",
    "pf_8 = ParticleFilter(n_particles = ensemble_params_8.E,\n",
    "                        n_steps = 1,\n",
    "                        n_dim = initial_signal.shape[-1],\n",
    "                        forward_model = ensemble_model_8,\n",
    "                        signal_model = signal_model_8,\n",
    "                        sigma = observation_noise,# this seems to be different than the sigma for the xi.\n",
    "                        seed = 11,\n",
    "                        resampling='multinomial',\n",
    "                        observation_locations = observation_locations_params,)"
   ]
  },
  {
   "cell_type": "code",
   "execution_count": null,
   "metadata": {},
   "outputs": [],
   "source": [
    "final_1, all_1 = pf_1.run(initial_ensemble_1, initial_signal, signal_model_1.nmax) \n",
    "final_2, all_2 = pf_2.run(initial_ensemble_2, initial_signal, signal_model_2.nmax)\n",
    "final_3, all_3 = pf_3.run(initial_ensemble_3, initial_signal, signal_model_3.nmax)\n",
    "final_4, all_4 = pf_4.run(initial_ensemble_4, initial_signal, signal_model_4.nmax)\n",
    "final_5, all_5 = pf_5.run(initial_ensemble_5, initial_signal, signal_model_5.nmax)\n",
    "final_6, all_6 = pf_6.run(initial_ensemble_6, initial_signal, signal_model_6.nmax)\n",
    "final_7, all_7 = pf_7.run(initial_ensemble_7, initial_signal, signal_model_7.nmax)\n",
    "final_8, all_8 = pf_8.run(initial_ensemble_8, initial_signal, signal_model_8.nmax)"
   ]
  },
  {
   "cell_type": "markdown",
   "metadata": {},
   "source": [
    "Put in the initial condition."
   ]
  },
  {
   "cell_type": "code",
   "execution_count": null,
   "metadata": {},
   "outputs": [],
   "source": [
    "particles_1 = jnp.concatenate([initial_ensemble_1[None,...], all_1[0]], axis=0)\n",
    "particles_2 = jnp.concatenate([initial_ensemble_2[None,...], all_2[0]], axis=0)\n",
    "particles_3 = jnp.concatenate([initial_ensemble_3[None,...], all_3[0]], axis=0)\n",
    "particles_4 = jnp.concatenate([initial_ensemble_4[None,...], all_4[0]], axis=0)\n",
    "particles_5 = jnp.concatenate([initial_ensemble_5[None,...], all_5[0]], axis=0)\n",
    "particles_6 = jnp.concatenate([initial_ensemble_6[None,...], all_6[0]], axis=0)\n",
    "particles_7 = jnp.concatenate([initial_ensemble_7[None,...], all_7[0]], axis=0)\n",
    "particles_8 = jnp.concatenate([initial_ensemble_8[None,...], all_8[0]], axis=0)"
   ]
  },
  {
   "cell_type": "code",
   "execution_count": 11,
   "metadata": {},
   "outputs": [],
   "source": [
    "signal = jnp.concatenate([initial_signal[None,...],all_1[1]], axis=0)"
   ]
  },
  {
   "cell_type": "code",
   "execution_count": null,
   "metadata": {},
   "outputs": [
    {
     "data": {
      "application/vnd.jupyter.widget-view+json": {
       "model_id": "30b855fd47e04c8d8f0ec1dc4ceb706b",
       "version_major": 2,
       "version_minor": 0
      },
      "text/plain": [
       "interactive(children=(IntSlider(value=2000, description='da_step', max=4000), Output()), _dom_classes=('widget…"
      ]
     },
     "metadata": {},
     "output_type": "display_data"
    },
    {
     "data": {
      "text/plain": [
       "<function __main__.plot(da_step)>"
      ]
     },
     "execution_count": 12,
     "metadata": {},
     "output_type": "execute_result"
    },
    {
     "ename": "",
     "evalue": "",
     "output_type": "error",
     "traceback": [
      "\u001b[1;31mThe Kernel crashed while executing code in the current cell or a previous cell. \n",
      "\u001b[1;31mPlease review the code in the cell(s) to identify a possible cause of the failure. \n",
      "\u001b[1;31mClick <a href='https://aka.ms/vscodeJupyterKernelCrash'>here</a> for more info. \n",
      "\u001b[1;31mView Jupyter <a href='command:jupyter.viewOutput'>log</a> for further details."
     ]
    }
   ],
   "source": [
    "def plot(da_step):\n",
    "    plt.plot(signal_model_1.x, signal[da_step,0,:], color='k',label='signal')\n",
    "    plt.plot(signal_model_1.x, particles_1[da_step,0,:], color='b',label='E=16')\n",
    "    plt.plot(signal_model_1.x, particles_8[da_step,0,:], color='g',label='E=2048')\n",
    "\n",
    "    \n",
    "    # plt.scatter(signal_model_1.x[::obs_frequency], observations[da_step,0,::obs_frequency], color='r',label='observations')\n",
    "    plt.legend()\n",
    "    plt.show()\n",
    "\n",
    "interact(plot, da_step=(0, signal_model_1.nmax))"
   ]
  },
  {
   "cell_type": "code",
   "execution_count": null,
   "metadata": {},
   "outputs": [],
   "source": [
    "crps_1 = ens_metrics.crps(signal[1:,...], particles_1[1:,...])\n",
    "crps_2 = ens_metrics.crps(signal[1:,...], particles_2[1:,...])\n",
    "crps_3 = ens_metrics.crps(signal[1:,...], particles_3[1:,...])\n",
    "crps_4 = ens_metrics.crps(signal[1:,...], particles_4[1:,...])\n",
    "crps_5 = ens_metrics.crps(signal[1:,...], particles_5[1:,...])\n",
    "crps_6 = ens_metrics.crps(signal[1:,...], particles_6[1:,...])\n",
    "crps_7 = ens_metrics.crps(signal[1:,...], particles_7[1:,...])\n",
    "crps_8 = ens_metrics.crps(signal[1:,...], particles_8[1:,...])\n",
    "# takes about 7 minutes to run at 32 spatial resolution."
   ]
  },
  {
   "cell_type": "code",
   "execution_count": null,
   "metadata": {},
   "outputs": [],
   "source": [
    "rmse_1 = ens_metrics.rmse(signal[1:,...], particles_1[1:,...])\n",
    "rmse_2 = ens_metrics.rmse(signal[1:,...], particles_2[1:,...])\n",
    "rmse_3 = ens_metrics.rmse(signal[1:,...], particles_3[1:,...])\n",
    "rmse_4 = ens_metrics.rmse(signal[1:,...], particles_4[1:,...])\n",
    "rmse_5 = ens_metrics.rmse(signal[1:,...], particles_5[1:,...])\n",
    "rmse_6 = ens_metrics.rmse(signal[1:,...], particles_6[1:,...])\n",
    "rmse_7 = ens_metrics.rmse(signal[1:,...], particles_7[1:,...])\n",
    "rmse_8 = ens_metrics.rmse(signal[1:,...], particles_8[1:,...])"
   ]
  },
  {
   "cell_type": "code",
   "execution_count": null,
   "metadata": {},
   "outputs": [
    {
     "ename": "NameError",
     "evalue": "name 'plt' is not defined",
     "output_type": "error",
     "traceback": [
      "\u001b[31m---------------------------------------------------------------------------\u001b[39m",
      "\u001b[31mNameError\u001b[39m                                 Traceback (most recent call last)",
      "\u001b[36mCell\u001b[39m\u001b[36m \u001b[39m\u001b[32mIn[1]\u001b[39m\u001b[32m, line 1\u001b[39m\n\u001b[32m----> \u001b[39m\u001b[32m1\u001b[39m \u001b[43mplt\u001b[49m.title(\u001b[33m'\u001b[39m\u001b[33mRMSE\u001b[39m\u001b[33m'\u001b[39m)\n\u001b[32m      2\u001b[39m \u001b[38;5;66;03m#list = [rmse_1,rmse_2,rmse_3,rmse_4,rmse_5,rmse_6,rmse_7,rmse_8]\u001b[39;00m\n\u001b[32m      3\u001b[39m \u001b[38;5;28mlist\u001b[39m = [rmse_1,rmse_2,rmse_3,rmse_4]\n",
      "\u001b[31mNameError\u001b[39m: name 'plt' is not defined"
     ]
    }
   ],
   "source": [
    "plt.title('RMSE')\n",
    "list = [rmse_1,rmse_2,rmse_3,rmse_4,rmse_5,rmse_6,rmse_7,rmse_8]\n",
    "for i in range(0,8):\n",
    "    plt.plot(list[i], label=f'E={16*2**i}', color=plt.cm.viridis(i / 7))\n",
    "plt.plot(observation_noise*jnp.ones_like(list[0]),c='k',label=f'observation noise magnitude')\n",
    "plt.xlabel('time')\n",
    "plt.legend()\n",
    "plt.show()"
   ]
  },
  {
   "cell_type": "code",
   "execution_count": null,
   "metadata": {},
   "outputs": [],
   "source": [
    "time = jnp.arange(0, signal_model_1.nmax+1) * signal_model_1.dt\n",
    "plt.title('RMSE')\n",
    "list = [rmse_1,rmse_2,rmse_3,rmse_4,rmse_5,rmse_6,rmse_7,rmse_8]\n",
    "for i in range(0,8):\n",
    "    plt.plot(time,list[i], label=f'E={16*2**i}', color=plt.cm.viridis(i / 7))\n",
    "plt.plot(observation_noise*jnp.ones_like(list[0]),c='k',label=f'observation noise magnitude')\n",
    "plt.xlabel('time')\n",
    "plt.legend()\n",
    "plt.show()"
   ]
  },
  {
   "cell_type": "code",
   "execution_count": null,
   "metadata": {},
   "outputs": [
    {
     "data": {
      "image/png": "[encoded data removed]",
      "text/plain": [
       "<Figure size 640x480 with 1 Axes>"
      ]
     },
     "metadata": {},
     "output_type": "display_data"
    }
   ],
   "source": [
    "plt.title('CRPS')\n",
    "list = [crps_1,crps_2,crps_3,crps_4,crps_5,crps_6,crps_7,crps_8]\n",
    "for i in range(0,8):\n",
    "    plt.plot(list[i], label=f'E={16*2**i}', color=plt.cm.viridis(i / 7))\n",
    "plt.plot(observation_noise*jnp.ones_like(list[0]),c='k',label=f'observation noise magnitude')\n",
    "plt.xlabel('time')\n",
    "plt.legend()\n",
    "plt.show()"
   ]
  }
 ],
 "metadata": {
  "kernelspec": {
   "display_name": "new_environment_python",
   "language": "python",
   "name": "python3"
  },
  "language_info": {
   "codemirror_mode": {
    "name": "ipython",
    "version": 3
   },
   "file_extension": ".py",
   "mimetype": "text/x-python",
   "name": "python",
   "nbconvert_exporter": "python",
   "pygments_lexer": "ipython3",
   "version": "3.13.3"
  }
 },
 "nbformat": 4,
 "nbformat_minor": 2
}
