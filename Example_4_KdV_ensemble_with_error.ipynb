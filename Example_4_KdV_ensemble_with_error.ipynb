{
 "cells": [
  {
   "cell_type": "code",
   "execution_count": 8,
   "metadata": {},
   "outputs": [],
   "source": [
    "import jax\n",
    "import jax.numpy as jnp\n",
    "import matplotlib.pyplot as plt\n",
    "from ipywidgets import interact\n",
    "from ml_collections import ConfigDict\n",
    "from models.ETD_KT_CM_JAX_Vectorised import *\n",
    "from filters import resamplers\n",
    "from filters.filter import ParticleFilter\n",
    "jax.config.update(\"jax_platform_name\", \"cpu\")\n",
    "import metrics.ensemble as ens_metrics\n"
   ]
  },
  {
   "cell_type": "markdown",
   "metadata": {},
   "source": [
    "Initialisation"
   ]
  },
  {
   "cell_type": "code",
   "execution_count": 9,
   "metadata": {},
   "outputs": [
    {
     "name": "stdout",
     "output_type": "stream",
     "text": [
      "Advection_basis_name: none\n",
      "E: 1\n",
      "Forcing_basis_name: none\n",
      "P: 1\n",
      "S: 0\n",
      "c_0: 0\n",
      "c_1: 1\n",
      "c_2: 0.0\n",
      "c_3: 2.0e-05\n",
      "c_4: 0.0\n",
      "dt: 0.001\n",
      "equation_name: KdV\n",
      "initial_condition: gaussian\n",
      "method: Dealiased_SETDRK4\n",
      "noise_magnitude: 0.0\n",
      "nx: 256\n",
      "tmax: 1\n",
      "xmax: 1\n",
      "xmin: 0\n",
      "\n"
     ]
    }
   ],
   "source": [
    "signal_params = ConfigDict(KDV_params_2)\n",
    "print(signal_params)"
   ]
  },
  {
   "cell_type": "code",
   "execution_count": 10,
   "metadata": {},
   "outputs": [
    {
     "name": "stdout",
     "output_type": "stream",
     "text": [
      "Advection_basis_name: constant\n",
      "E: 10\n",
      "Forcing_basis_name: none\n",
      "P: 1\n",
      "S: 0\n",
      "c_0: 0\n",
      "c_1: 1\n",
      "c_2: 0.0\n",
      "c_3: 2.0e-05\n",
      "c_4: 0.0\n",
      "dt: 0.001\n",
      "equation_name: KdV\n",
      "initial_condition: gaussian\n",
      "method: Dealiased_SETDRK4\n",
      "noise_magnitude: 0.01\n",
      "nx: 256\n",
      "tmax: 1\n",
      "xmax: 1\n",
      "xmin: 0\n",
      "\n"
     ]
    }
   ],
   "source": [
    "ensemble_params = ConfigDict(KDV_params_2_SALT)\n",
    "print(ensemble_params)"
   ]
  },
  {
   "cell_type": "markdown",
   "metadata": {},
   "source": [
    "Next, we specify a signal, by choosing a deterministic solver, "
   ]
  },
  {
   "cell_type": "code",
   "execution_count": 11,
   "metadata": {},
   "outputs": [],
   "source": [
    "signal_params.update(E=1,method='Dealiased_ETDRK4',P=0,S=0,tmax=1,nmax=256*4)\n",
    "ensemble_params.update(E=128,noise_magnitude=0.01,P=32,tmax=1,nmax=256*4)"
   ]
  },
  {
   "cell_type": "markdown",
   "metadata": {},
   "source": [
    "Now we continue to define a stochastic ensemble"
   ]
  },
  {
   "cell_type": "markdown",
   "metadata": {},
   "source": [
    "Now we specify the models, by calling the class."
   ]
  },
  {
   "cell_type": "code",
   "execution_count": 12,
   "metadata": {},
   "outputs": [
    {
     "name": "stdout",
     "output_type": "stream",
     "text": [
      "multinomial, systematic, no_resampling, default\n"
     ]
    }
   ],
   "source": [
    "signal_model = ETD_KT_CM_JAX_Vectorised(signal_params)\n",
    "ensemble_model = ETD_KT_CM_JAX_Vectorised(ensemble_params)\n",
    "initial_signal = initial_condition(signal_model.x, signal_params.E, signal_params.initial_condition)\n",
    "initial_ensemble = initial_condition(ensemble_model.x, ensemble_params.E, ensemble_params.initial_condition)\n",
    "available_resamplers = \", \".join(resamplers.keys())\n",
    "print(available_resamplers)"
   ]
  },
  {
   "cell_type": "code",
   "execution_count": 13,
   "metadata": {},
   "outputs": [],
   "source": [
    "pf_multinomial = ParticleFilter(\n",
    "    n_particles = ensemble_params.E,\n",
    "    n_steps = 1,\n",
    "    n_dim = initial_signal.shape[-1],\n",
    "    forward_model = ensemble_model,\n",
    "    signal_model = signal_model,\n",
    "    sigma = 0.1,# this seems to be different than the sigma for the xi.\n",
    "    seed = 11,\n",
    "    resampling='multinomial',\n",
    "    observation_locations = jnp.arange(0,256,4),\n",
    ")\n",
    "\n",
    "pf_systematic = ParticleFilter(\n",
    "    n_particles = ensemble_params.E,\n",
    "    n_steps = 1,\n",
    "    n_dim = initial_signal.shape[-1],\n",
    "    forward_model = ensemble_model_2,\n",
    "    signal_model = signal_model,\n",
    "    sigma = 0.1,# this seems to be different than the sigma for the xi.\n",
    "    seed = 11,\n",
    "    resampling='systematic',\n",
    "    observation_locations = jnp.arange(0,256,4),\n",
    ")\n",
    "\n",
    "pf_no_resampling = ParticleFilter(\n",
    "    n_particles = ensemble_params.E,\n",
    "    n_steps = 1,\n",
    "    n_dim = initial_signal.shape[-1],\n",
    "    forward_model = ensemble_model_3,\n",
    "    signal_model = signal_model,\n",
    "    sigma = 0.1,# this seems to be different than the sigma for the xi.\n",
    "    seed = 11,\n",
    "    resampling='no_resampling',\n",
    "    observation_locations = jnp.arange(0,256,4),\n",
    ")"
   ]
  },
  {
   "cell_type": "code",
   "execution_count": 14,
   "metadata": {},
   "outputs": [
    {
     "ename": "UnexpectedTracerError",
     "evalue": "Encountered an unexpected tracer. A function transformed by JAX had a side effect, allowing for a reference to an intermediate value with type uint32[2] wrapped in a DynamicJaxprTracer to escape the scope of the transformation.\nJAX transformations require that functions explicitly return their outputs, and disallow saving intermediate values to global state.\nThe function being traced when the value leaked was scan_fn at /Users/jmw/Documents/GitHub/Particle_Filter/filters/filter.py:51 traced for scan.\n------------------------------\nThe leaked intermediate value was created on line /Users/jmw/Documents/GitHub/Particle_Filter/models/ETD_KT_CM_JAX_Vectorised.py:110 (run). \n------------------------------\nWhen the value was created, the final 5 stack frames (most recent last) excluding JAX-internal frames were:\n------------------------------\n/Users/jmw/Documents/GitHub/Particle_Filter/filters/filter.py:56 (run)\n/Users/jmw/Documents/GitHub/Particle_Filter/filters/filter.py:53 (scan_fn)\n/Users/jmw/Documents/GitHub/Particle_Filter/filters/filter.py:42 (run_step)\n/Users/jmw/Documents/GitHub/Particle_Filter/filters/filter.py:20 (advance_signal)\n/Users/jmw/Documents/GitHub/Particle_Filter/models/ETD_KT_CM_JAX_Vectorised.py:110 (run)\n------------------------------\n\nTo catch the leak earlier, try setting the environment variable JAX_CHECK_TRACER_LEAKS or using the `jax.checking_leaks` context manager.\nSee https://jax.readthedocs.io/en/latest/errors.html#jax.errors.UnexpectedTracerError",
     "output_type": "error",
     "traceback": [
      "\u001b[0;31m---------------------------------------------------------------------------\u001b[0m",
      "\u001b[0;31mUnexpectedTracerError\u001b[0m                     Traceback (most recent call last)",
      "Cell \u001b[0;32mIn[14], line 2\u001b[0m\n\u001b[1;32m      1\u001b[0m final_systematic, all_systematic \u001b[38;5;241m=\u001b[39m pf_systematic\u001b[38;5;241m.\u001b[39mrun(initial_ensemble, initial_signal, signal_model\u001b[38;5;241m.\u001b[39mnmax) \n\u001b[0;32m----> 2\u001b[0m final_multinomial, all_multinomial \u001b[38;5;241m=\u001b[39m \u001b[43mpf_multinomial\u001b[49m\u001b[38;5;241;43m.\u001b[39;49m\u001b[43mrun\u001b[49m\u001b[43m(\u001b[49m\u001b[43minitial_ensemble\u001b[49m\u001b[43m,\u001b[49m\u001b[43m \u001b[49m\u001b[43minitial_signal\u001b[49m\u001b[43m,\u001b[49m\u001b[43m \u001b[49m\u001b[43msignal_model\u001b[49m\u001b[38;5;241;43m.\u001b[39;49m\u001b[43mnmax\u001b[49m\u001b[43m)\u001b[49m \n\u001b[1;32m      3\u001b[0m final_no_resampling, all_no_resampling \u001b[38;5;241m=\u001b[39m pf_no_resampling\u001b[38;5;241m.\u001b[39mrun(initial_ensemble, initial_signal, signal_model\u001b[38;5;241m.\u001b[39mnmax)\n",
      "File \u001b[0;32m~/Documents/GitHub/Particle_Filter/filters/filter.py:56\u001b[0m, in \u001b[0;36mParticleFilter.run\u001b[0;34m(self, initial_particles, initial_signal, n_total)\u001b[0m\n\u001b[1;32m     53\u001b[0m     particles, signal, observation \u001b[38;5;241m=\u001b[39m \u001b[38;5;28mself\u001b[39m\u001b[38;5;241m.\u001b[39mrun_step(particles, signal)\n\u001b[1;32m     54\u001b[0m     \u001b[38;5;28;01mreturn\u001b[39;00m (particles, signal), (particles, signal, observation)\n\u001b[0;32m---> 56\u001b[0m final, \u001b[38;5;28mall\u001b[39m \u001b[38;5;241m=\u001b[39m \u001b[43mjax\u001b[49m\u001b[38;5;241;43m.\u001b[39;49m\u001b[43mlax\u001b[49m\u001b[38;5;241;43m.\u001b[39;49m\u001b[43mscan\u001b[49m\u001b[43m(\u001b[49m\u001b[43mscan_fn\u001b[49m\u001b[43m,\u001b[49m\u001b[43m \u001b[49m\u001b[43m(\u001b[49m\u001b[43minitial_particles\u001b[49m\u001b[43m,\u001b[49m\u001b[43m \u001b[49m\u001b[43minitial_signal\u001b[49m\u001b[43m)\u001b[49m\u001b[43m,\u001b[49m\u001b[43m \u001b[49m\u001b[43mjnp\u001b[49m\u001b[38;5;241;43m.\u001b[39;49m\u001b[43marange\u001b[49m\u001b[43m(\u001b[49m\u001b[43mn_total\u001b[49m\u001b[43m)\u001b[49m\u001b[43m)\u001b[49m\n\u001b[1;32m     57\u001b[0m \u001b[38;5;28;01mreturn\u001b[39;00m final, \u001b[38;5;28mall\u001b[39m\n",
      "    \u001b[0;31m[... skipping hidden 9 frame]\u001b[0m\n",
      "File \u001b[0;32m~/Documents/GitHub/Particle_Filter/filters/filter.py:53\u001b[0m, in \u001b[0;36mParticleFilter.run.<locals>.scan_fn\u001b[0;34m(val, i)\u001b[0m\n\u001b[1;32m     51\u001b[0m \u001b[38;5;28;01mdef\u001b[39;00m \u001b[38;5;21mscan_fn\u001b[39m(val, i):\n\u001b[1;32m     52\u001b[0m     particles, signal \u001b[38;5;241m=\u001b[39m val\n\u001b[0;32m---> 53\u001b[0m     particles, signal, observation \u001b[38;5;241m=\u001b[39m \u001b[38;5;28;43mself\u001b[39;49m\u001b[38;5;241;43m.\u001b[39;49m\u001b[43mrun_step\u001b[49m\u001b[43m(\u001b[49m\u001b[43mparticles\u001b[49m\u001b[43m,\u001b[49m\u001b[43m \u001b[49m\u001b[43msignal\u001b[49m\u001b[43m)\u001b[49m\n\u001b[1;32m     54\u001b[0m     \u001b[38;5;28;01mreturn\u001b[39;00m (particles, signal), (particles, signal, observation)\n",
      "File \u001b[0;32m~/Documents/GitHub/Particle_Filter/filters/filter.py:42\u001b[0m, in \u001b[0;36mParticleFilter.run_step\u001b[0;34m(self, particles, signal)\u001b[0m\n\u001b[1;32m     40\u001b[0m \u001b[38;5;28;01mdef\u001b[39;00m \u001b[38;5;21mrun_step\u001b[39m(\u001b[38;5;28mself\u001b[39m, particles, signal):\n\u001b[1;32m     41\u001b[0m     \u001b[38;5;28mself\u001b[39m\u001b[38;5;241m.\u001b[39mkey, obs_key, sampling_key \u001b[38;5;241m=\u001b[39m jax\u001b[38;5;241m.\u001b[39mrandom\u001b[38;5;241m.\u001b[39msplit(\u001b[38;5;28mself\u001b[39m\u001b[38;5;241m.\u001b[39mkey, \u001b[38;5;241m3\u001b[39m)\n\u001b[0;32m---> 42\u001b[0m     signal \u001b[38;5;241m=\u001b[39m \u001b[38;5;28;43mself\u001b[39;49m\u001b[38;5;241;43m.\u001b[39;49m\u001b[43madvance_signal\u001b[49m\u001b[43m(\u001b[49m\u001b[43msignal\u001b[49m\u001b[43m)\u001b[49m\n\u001b[1;32m     43\u001b[0m     particles \u001b[38;5;241m=\u001b[39m \u001b[38;5;28mself\u001b[39m\u001b[38;5;241m.\u001b[39mpredict(particles)\n\u001b[1;32m     44\u001b[0m     observation \u001b[38;5;241m=\u001b[39m \u001b[38;5;28mself\u001b[39m\u001b[38;5;241m.\u001b[39mobservation_from_signal(signal, obs_key)\n",
      "File \u001b[0;32m~/Documents/GitHub/Particle_Filter/filters/filter.py:20\u001b[0m, in \u001b[0;36mParticleFilter.advance_signal\u001b[0;34m(self, signal_position)\u001b[0m\n\u001b[1;32m     19\u001b[0m \u001b[38;5;28;01mdef\u001b[39;00m \u001b[38;5;21madvance_signal\u001b[39m(\u001b[38;5;28mself\u001b[39m, signal_position):\n\u001b[0;32m---> 20\u001b[0m     signal, _ \u001b[38;5;241m=\u001b[39m \u001b[38;5;28;43mself\u001b[39;49m\u001b[38;5;241;43m.\u001b[39;49m\u001b[43msignal_model\u001b[49m\u001b[38;5;241;43m.\u001b[39;49m\u001b[43mrun\u001b[49m\u001b[43m(\u001b[49m\u001b[43msignal_position\u001b[49m\u001b[43m,\u001b[49m\u001b[43m \u001b[49m\u001b[38;5;28;43mself\u001b[39;49m\u001b[38;5;241;43m.\u001b[39;49m\u001b[43mn_steps\u001b[49m\u001b[43m,\u001b[49m\u001b[43m \u001b[49m\u001b[38;5;28;43;01mNone\u001b[39;49;00m\u001b[43m)\u001b[49m\n\u001b[1;32m     21\u001b[0m     \u001b[38;5;28;01mreturn\u001b[39;00m signal\n",
      "File \u001b[0;32m~/Documents/GitHub/Particle_Filter/models/ETD_KT_CM_JAX_Vectorised.py:110\u001b[0m, in \u001b[0;36mETD_KT_CM_JAX_Vectorised.run\u001b[0;34m(self, initial_state, n_steps, noise)\u001b[0m\n\u001b[1;32m    107\u001b[0m \u001b[38;5;28;01mdef\u001b[39;00m \u001b[38;5;21mrun\u001b[39m(\u001b[38;5;28mself\u001b[39m, initial_state, n_steps, noise):\n\u001b[1;32m    109\u001b[0m     \u001b[38;5;28;01mif\u001b[39;00m noise \u001b[38;5;129;01mis\u001b[39;00m \u001b[38;5;28;01mNone\u001b[39;00m:\n\u001b[0;32m--> 110\u001b[0m         \u001b[38;5;28mself\u001b[39m\u001b[38;5;241m.\u001b[39mkey1, key1 \u001b[38;5;241m=\u001b[39m \u001b[43mjax\u001b[49m\u001b[38;5;241;43m.\u001b[39;49m\u001b[43mrandom\u001b[49m\u001b[38;5;241;43m.\u001b[39;49m\u001b[43msplit\u001b[49m\u001b[43m(\u001b[49m\u001b[38;5;28;43mself\u001b[39;49m\u001b[38;5;241;43m.\u001b[39;49m\u001b[43mkey1\u001b[49m\u001b[43m,\u001b[49m\u001b[43m \u001b[49m\u001b[38;5;241;43m2\u001b[39;49m\u001b[43m)\u001b[49m\n\u001b[1;32m    111\u001b[0m         \u001b[38;5;28mself\u001b[39m\u001b[38;5;241m.\u001b[39mkey2, key2 \u001b[38;5;241m=\u001b[39m jax\u001b[38;5;241m.\u001b[39mrandom\u001b[38;5;241m.\u001b[39msplit(\u001b[38;5;28mself\u001b[39m\u001b[38;5;241m.\u001b[39mkey2, \u001b[38;5;241m2\u001b[39m)\n\u001b[1;32m    112\u001b[0m         noise_advective,noise_forcing \u001b[38;5;241m=\u001b[39m \u001b[38;5;28mself\u001b[39m\u001b[38;5;241m.\u001b[39mdraw_noise(n_steps, key1, key2)\n",
      "File \u001b[0;32m~/virtual_python_environment1/lib/python3.10/site-packages/jax/_src/random.py:270\u001b[0m, in \u001b[0;36msplit\u001b[0;34m(key, num)\u001b[0m\n\u001b[1;32m    259\u001b[0m \u001b[38;5;28;01mdef\u001b[39;00m \u001b[38;5;21msplit\u001b[39m(key: KeyArray, num: Union[\u001b[38;5;28mint\u001b[39m, \u001b[38;5;28mtuple\u001b[39m[\u001b[38;5;28mint\u001b[39m, \u001b[38;5;241m.\u001b[39m\u001b[38;5;241m.\u001b[39m\u001b[38;5;241m.\u001b[39m]] \u001b[38;5;241m=\u001b[39m \u001b[38;5;241m2\u001b[39m) \u001b[38;5;241m-\u001b[39m\u001b[38;5;241m>\u001b[39m KeyArray:\n\u001b[1;32m    260\u001b[0m \u001b[38;5;250m  \u001b[39m\u001b[38;5;124;03m\"\"\"Splits a PRNG key into `num` new keys by adding a leading axis.\u001b[39;00m\n\u001b[1;32m    261\u001b[0m \n\u001b[1;32m    262\u001b[0m \u001b[38;5;124;03m  Args:\u001b[39;00m\n\u001b[0;32m   (...)\u001b[0m\n\u001b[1;32m    268\u001b[0m \u001b[38;5;124;03m    An array-like object of `num` new PRNG keys.\u001b[39;00m\n\u001b[1;32m    269\u001b[0m \u001b[38;5;124;03m  \"\"\"\u001b[39;00m\n\u001b[0;32m--> 270\u001b[0m   key, wrapped \u001b[38;5;241m=\u001b[39m \u001b[43m_check_prng_key\u001b[49m\u001b[43m(\u001b[49m\u001b[43mkey\u001b[49m\u001b[43m)\u001b[49m\n\u001b[1;32m    271\u001b[0m   \u001b[38;5;28;01mreturn\u001b[39;00m _return_prng_keys(wrapped, _split(key, num))\n",
      "File \u001b[0;32m~/virtual_python_environment1/lib/python3.10/site-packages/jax/_src/random.py:76\u001b[0m, in \u001b[0;36m_check_prng_key\u001b[0;34m(key)\u001b[0m\n\u001b[1;32m     73\u001b[0m   \u001b[38;5;28;01mreturn\u001b[39;00m key, \u001b[38;5;28;01mFalse\u001b[39;00m\n\u001b[1;32m     74\u001b[0m \u001b[38;5;28;01melif\u001b[39;00m _arraylike(key):\n\u001b[1;32m     75\u001b[0m   \u001b[38;5;66;03m# Call random_wrap here to surface errors for invalid keys.\u001b[39;00m\n\u001b[0;32m---> 76\u001b[0m   wrapped_key \u001b[38;5;241m=\u001b[39m \u001b[43mprng\u001b[49m\u001b[38;5;241;43m.\u001b[39;49m\u001b[43mrandom_wrap\u001b[49m\u001b[43m(\u001b[49m\u001b[43mkey\u001b[49m\u001b[43m,\u001b[49m\u001b[43m \u001b[49m\u001b[43mimpl\u001b[49m\u001b[38;5;241;43m=\u001b[39;49m\u001b[43mdefault_prng_impl\u001b[49m\u001b[43m(\u001b[49m\u001b[43m)\u001b[49m\u001b[43m)\u001b[49m\n\u001b[1;32m     77\u001b[0m   \u001b[38;5;28;01mif\u001b[39;00m config\u001b[38;5;241m.\u001b[39mjax_legacy_prng_key \u001b[38;5;241m==\u001b[39m \u001b[38;5;124m'\u001b[39m\u001b[38;5;124merror\u001b[39m\u001b[38;5;124m'\u001b[39m:\n\u001b[1;32m     78\u001b[0m     \u001b[38;5;28;01mraise\u001b[39;00m \u001b[38;5;167;01mValueError\u001b[39;00m(\n\u001b[1;32m     79\u001b[0m       \u001b[38;5;124m'\u001b[39m\u001b[38;5;124mLegacy uint32 key array passed as key to jax.random function. \u001b[39m\u001b[38;5;124m'\u001b[39m\n\u001b[1;32m     80\u001b[0m       \u001b[38;5;124m'\u001b[39m\u001b[38;5;124mPlease create keys using jax.random.key(). If use of a raw key array \u001b[39m\u001b[38;5;124m'\u001b[39m\n\u001b[1;32m     81\u001b[0m       \u001b[38;5;124m'\u001b[39m\u001b[38;5;124mwas intended, set jax_legacy_prng_key=\u001b[39m\u001b[38;5;124m\"\u001b[39m\u001b[38;5;124mallow\u001b[39m\u001b[38;5;124m\"\u001b[39m\u001b[38;5;124m.\u001b[39m\u001b[38;5;124m'\u001b[39m)\n",
      "File \u001b[0;32m~/virtual_python_environment1/lib/python3.10/site-packages/jax/_src/prng.py:869\u001b[0m, in \u001b[0;36mrandom_wrap\u001b[0;34m(base_arr, impl)\u001b[0m\n\u001b[1;32m    867\u001b[0m \u001b[38;5;28;01mdef\u001b[39;00m \u001b[38;5;21mrandom_wrap\u001b[39m(base_arr, \u001b[38;5;241m*\u001b[39m, impl):\n\u001b[1;32m    868\u001b[0m   _check_prng_key_data(impl, base_arr)\n\u001b[0;32m--> 869\u001b[0m   \u001b[38;5;28;01mreturn\u001b[39;00m \u001b[43mrandom_wrap_p\u001b[49m\u001b[38;5;241;43m.\u001b[39;49m\u001b[43mbind\u001b[49m\u001b[43m(\u001b[49m\u001b[43mbase_arr\u001b[49m\u001b[43m,\u001b[49m\u001b[43m \u001b[49m\u001b[43mimpl\u001b[49m\u001b[38;5;241;43m=\u001b[39;49m\u001b[43mimpl\u001b[49m\u001b[43m)\u001b[49m\n",
      "    \u001b[0;31m[... skipping hidden 2 frame]\u001b[0m\n",
      "File \u001b[0;32m~/virtual_python_environment1/lib/python3.10/site-packages/jax/_src/interpreters/partial_eval.py:1621\u001b[0m, in \u001b[0;36mDynamicJaxprTracer._assert_live\u001b[0;34m(self)\u001b[0m\n\u001b[1;32m   1619\u001b[0m \u001b[38;5;28;01mdef\u001b[39;00m \u001b[38;5;21m_assert_live\u001b[39m(\u001b[38;5;28mself\u001b[39m) \u001b[38;5;241m-\u001b[39m\u001b[38;5;241m>\u001b[39m \u001b[38;5;28;01mNone\u001b[39;00m:\n\u001b[1;32m   1620\u001b[0m   \u001b[38;5;28;01mif\u001b[39;00m \u001b[38;5;129;01mnot\u001b[39;00m \u001b[38;5;28mself\u001b[39m\u001b[38;5;241m.\u001b[39m_trace\u001b[38;5;241m.\u001b[39mmain\u001b[38;5;241m.\u001b[39mjaxpr_stack:  \u001b[38;5;66;03m# type: ignore\u001b[39;00m\n\u001b[0;32m-> 1621\u001b[0m     \u001b[38;5;28;01mraise\u001b[39;00m core\u001b[38;5;241m.\u001b[39mescaped_tracer_error(\u001b[38;5;28mself\u001b[39m, \u001b[38;5;28;01mNone\u001b[39;00m)\n",
      "\u001b[0;31mUnexpectedTracerError\u001b[0m: Encountered an unexpected tracer. A function transformed by JAX had a side effect, allowing for a reference to an intermediate value with type uint32[2] wrapped in a DynamicJaxprTracer to escape the scope of the transformation.\nJAX transformations require that functions explicitly return their outputs, and disallow saving intermediate values to global state.\nThe function being traced when the value leaked was scan_fn at /Users/jmw/Documents/GitHub/Particle_Filter/filters/filter.py:51 traced for scan.\n------------------------------\nThe leaked intermediate value was created on line /Users/jmw/Documents/GitHub/Particle_Filter/models/ETD_KT_CM_JAX_Vectorised.py:110 (run). \n------------------------------\nWhen the value was created, the final 5 stack frames (most recent last) excluding JAX-internal frames were:\n------------------------------\n/Users/jmw/Documents/GitHub/Particle_Filter/filters/filter.py:56 (run)\n/Users/jmw/Documents/GitHub/Particle_Filter/filters/filter.py:53 (scan_fn)\n/Users/jmw/Documents/GitHub/Particle_Filter/filters/filter.py:42 (run_step)\n/Users/jmw/Documents/GitHub/Particle_Filter/filters/filter.py:20 (advance_signal)\n/Users/jmw/Documents/GitHub/Particle_Filter/models/ETD_KT_CM_JAX_Vectorised.py:110 (run)\n------------------------------\n\nTo catch the leak earlier, try setting the environment variable JAX_CHECK_TRACER_LEAKS or using the `jax.checking_leaks` context manager.\nSee https://jax.readthedocs.io/en/latest/errors.html#jax.errors.UnexpectedTracerError"
     ]
    }
   ],
   "source": [
    "final_systematic, all_systematic = pf_systematic.run(initial_ensemble, initial_signal, signal_model.nmax) \n",
    "final_multinomial, all_multinomial = pf_multinomial.run(initial_ensemble, initial_signal, signal_model.nmax) \n",
    "final_no_resampling, all_no_resampling = pf_no_resampling.run(initial_ensemble, initial_signal, signal_model.nmax)"
   ]
  },
  {
   "cell_type": "markdown",
   "metadata": {},
   "source": [
    "Put in the initial condition."
   ]
  },
  {
   "cell_type": "code",
   "execution_count": null,
   "metadata": {},
   "outputs": [],
   "source": [
    "particles_systematic = jnp.concatenate([initial_ensemble[None,...], all_systematic[0]], axis=0)\n",
    "particles_multinomial = jnp.concatenate([initial_ensemble[None,...], all_multinomial[0]], axis=0)\n",
    "particles_no_resampling = jnp.concatenate([initial_ensemble[None,...], all_no_resampling[0]], axis=0)\n",
    "\n",
    "signal = jnp.concatenate([initial_signal[None,...], all_systematic[1]], axis=0)\n",
    "print(f\"Particles Shape: {particles_systematic.shape} is (N_da_steps+1, N_particles, N_dim)\")\n",
    "print(f\"Signal Shape: {signal.shape} is (N_da_steps+1, 1,  N_dim)\")\n",
    "observations = all_systematic[2]\n",
    "print(f\"Observations Shape: {observations.shape} is (N_da_steps, 1,  N_dim)\")\n",
    "print(f\"needs fixing, this should be (N_da_steps, N_obs_dim, N_dim)\")"
   ]
  },
  {
   "cell_type": "code",
   "execution_count": null,
   "metadata": {},
   "outputs": [],
   "source": [
    "def plot(da_step):\n",
    "    plt.plot(signal_model.x, signal[da_step,0,:], color='k',label='signal')\n",
    "    plt.plot(signal_model.x, particles_systematic[da_step,:,:].T, color='b'linewidth=0.01)\n",
    "    plt.plot(signal_model.x, particles_systematic[da_step,0,:].T, color='b',label='particles',linewidth=0.01)\n",
    "\n",
    "    plt.plot(signal_model.x, particles_no_resampling[da_step,:,:].T, color='r',linewidth=0.01)\n",
    "    plt.plot(signal_model.x, particles_no_resampling[da_step,0,:].T, color='r',label='particles',linewidth=0.01)\n",
    "    plt.legend()\n",
    "    #plt.scatter(signal_model.x[::128], observations[da_step,0,:], color='r',label='observations')\n",
    "    plt.show()\n",
    "\n",
    "interact(plot, da_step=(0, signal_model.nmax))"
   ]
  },
  {
   "cell_type": "code",
   "execution_count": null,
   "metadata": {},
   "outputs": [],
   "source": [
    "bias = ens_metrics.bias(signal[1:,...], particles[1:,...])\n",
    "rmse = ens_metrics.rmse(signal[1:,...], particles[1:,...])\n",
    "crps = ens_metrics.crps(signal[1:,...], particles[1:,...])\n",
    "print(type(bias), type(rmse), type(crps))"
   ]
  },
  {
   "cell_type": "code",
   "execution_count": null,
   "metadata": {},
   "outputs": [],
   "source": [
    "print(bias.shape, rmse.shape, crps.shape)"
   ]
  },
  {
   "cell_type": "code",
   "execution_count": 27,
   "metadata": {},
   "outputs": [],
   "source": [
    "# rmse_new = ens_metrics.rmse_2(signal[1:,...], particles[1:,...])"
   ]
  },
  {
   "cell_type": "code",
   "execution_count": null,
   "metadata": {},
   "outputs": [],
   "source": [
    "plt.plot(bias)\n",
    "plt.show()"
   ]
  },
  {
   "cell_type": "code",
   "execution_count": null,
   "metadata": {},
   "outputs": [],
   "source": [
    "plt.title('RMSE')\n",
    "plt.plot(rmse)\n",
    "plt.show()"
   ]
  },
  {
   "cell_type": "code",
   "execution_count": null,
   "metadata": {},
   "outputs": [],
   "source": [
    "plt.title('CRPS')\n",
    "plt.plot(crps)\n",
    "plt.show()"
   ]
  },
  {
   "cell_type": "code",
   "execution_count": null,
   "metadata": {},
   "outputs": [],
   "source": []
  }
 ],
 "metadata": {
  "kernelspec": {
   "display_name": "virtual_python_environment1",
   "language": "python",
   "name": "python3"
  },
  "language_info": {
   "codemirror_mode": {
    "name": "ipython",
    "version": 3
   },
   "file_extension": ".py",
   "mimetype": "text/x-python",
   "name": "python",
   "nbconvert_exporter": "python",
   "pygments_lexer": "ipython3",
   "version": "3.10.15"
  }
 },
 "nbformat": 4,
 "nbformat_minor": 2
}
