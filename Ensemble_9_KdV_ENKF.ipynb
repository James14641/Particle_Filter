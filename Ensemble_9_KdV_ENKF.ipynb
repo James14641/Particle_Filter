{
 "cells": [
  {
   "cell_type": "code",
   "execution_count": 1,
   "metadata": {},
   "outputs": [
    {
     "name": "stdout",
     "output_type": "stream",
     "text": [
      "True\n",
      "not currently supported.\n"
     ]
    }
   ],
   "source": [
    "import jax\n",
    "import jax.numpy as jnp\n",
    "import matplotlib.pyplot as plt\n",
    "from ipywidgets import interact\n",
    "from ml_collections import ConfigDict\n",
    "from models.ETD_KT_CM_JAX_Vectorised import *\n",
    "from filters import resamplers\n",
    "from filters.filter import EnsembleKalmanFilter, EnsembleKalmanFilter_All\n",
    "from jax import config\n",
    "jax.config.update(\"jax_enable_x64\", True)\n",
    "import numpy as np"
   ]
  },
  {
   "cell_type": "markdown",
   "metadata": {},
   "source": [
    "Initialisation of a twin experiment. "
   ]
  },
  {
   "cell_type": "code",
   "execution_count": 2,
   "metadata": {},
   "outputs": [],
   "source": [
    "signal_params = ConfigDict(KDV_params_2_SALT)\n",
    "ensemble_params = ConfigDict(KDV_params_2_SALT)\n",
    "signal_params.update(E=1,P=3,noise_magnitude = 0.01,stochastic_advection_basis='sin')\n",
    "ensemble_params.update(E=128,P=3,noise_magnitude = 0.01,stochastic_advection_basis='sin')\n"
   ]
  },
  {
   "cell_type": "markdown",
   "metadata": {},
   "source": [
    "Now we specify the models, by calling the class."
   ]
  },
  {
   "cell_type": "code",
   "execution_count": 3,
   "metadata": {},
   "outputs": [],
   "source": [
    "signal_model = ETD_KT_CM_JAX_Vectorised(signal_params)\n",
    "ensemble_model = ETD_KT_CM_JAX_Vectorised(ensemble_params)\n",
    "\n",
    "initial_signal = initial_condition(signal_model.x, signal_params.E, signal_params.initial_condition)\n",
    "initial_ensemble = initial_condition(ensemble_model.x, ensemble_params.E, ensemble_params.initial_condition)\n"
   ]
  },
  {
   "cell_type": "code",
   "execution_count": 4,
   "metadata": {},
   "outputs": [],
   "source": [
    "observation_spatial_frequency = 4\n",
    "observation_locations = np.arange(0,signal_model.x.shape[0],observation_spatial_frequency)\n",
    "observation_noise = 0.01\n",
    "number_of_observations_time = 32\n",
    "observation_temporal_frequency = int(ensemble_model.params.nt/number_of_observations_time)\n",
    "\n",
    "enkf = EnsembleKalmanFilter_All(\n",
    "    n_particles = ensemble_params.E,\n",
    "    n_steps = observation_temporal_frequency,\n",
    "    n_dim = initial_signal.shape[-1],\n",
    "    forward_model = ensemble_model,\n",
    "    signal_model = signal_model,\n",
    "    sigma = observation_noise,\n",
    "    seed = 1,\n",
    "    observation_locations = observation_locations,\n",
    ")\n",
    "\n",
    "\n"
   ]
  },
  {
   "cell_type": "code",
   "execution_count": 5,
   "metadata": {},
   "outputs": [],
   "source": [
    "da_steps = number_of_observations_time\n",
    "final, all = enkf.run(initial_ensemble, initial_signal, da_steps) #the final input is scan length? "
   ]
  },
  {
   "cell_type": "code",
   "execution_count": 24,
   "metadata": {},
   "outputs": [
    {
     "name": "stdout",
     "output_type": "stream",
     "text": [
      "Final state shape: (32, 125, 128, 256) (32, 125, 1, 256) (32, 1, 256)\n",
      "nt: 4000 4000\n",
      "Particles shape: (4000, 128, 256)\n",
      "Observations shape: (32, 1, 256)\n"
     ]
    }
   ],
   "source": [
    "print(\"Final state shape:\", all[0].shape,all[1].shape,all[2].shape)\n",
    "print('nt:', ensemble_model.params.nt,32*125)\n",
    "\n",
    "particles = jnp.concatenate(all[0], axis=0)\n",
    "print(\"Particles shape:\", particles.shape)\n",
    "signal = jnp.concatenate(all[1], axis=0)\n",
    "observations = all[2]\n",
    "print(\"Observations shape:\", observations.shape)\n"
   ]
  },
  {
   "cell_type": "code",
   "execution_count": null,
   "metadata": {},
   "outputs": [
    {
     "name": "stdout",
     "output_type": "stream",
     "text": [
      "Time step shape: 4000\n"
     ]
    },
    {
     "data": {
      "application/vnd.jupyter.widget-view+json": {
       "model_id": "52788bc6e98644989d1ee183aa4fd2ea",
       "version_major": 2,
       "version_minor": 0
      },
      "text/plain": [
       "interactive(children=(IntSlider(value=1999, description='time_step', max=3999), Output()), _dom_classes=('widg…"
      ]
     },
     "metadata": {},
     "output_type": "display_data"
    },
    {
     "data": {
      "text/plain": [
       "<function __main__.interactive_plot(time_step)>"
      ]
     },
     "execution_count": 27,
     "metadata": {},
     "output_type": "execute_result"
    }
   ],
   "source": [
    "time_step = ensemble_model.params.nt    \n",
    "print(\"Time step shape:\", time_step)\n",
    "def interactive_plot(time_step):\n",
    "    plt.figure(figsize=(10, 5))\n",
    "    plt.plot(signal_model.x, signal[time_step, 0, :], color='k', label='signal')\n",
    "    plt.plot(signal_model.x, particles[time_step, :, :].T, color='b', alpha=0.3, linewidth=0.5, label='particles')\n",
    "    plt.xlabel('x')\n",
    "    plt.ylabel('Value')\n",
    "    plt.title(f'Signal and Particles at time Step {time_step}')\n",
    "    plt.legend(['signal', 'particles'])\n",
    "    plt.show()\n",
    "\n",
    "interact(interactive_plot, time_step=(0, time_step - 1))"
   ]
  },
  {
   "cell_type": "markdown",
   "metadata": {},
   "source": [
    "Put in the initial condition."
   ]
  }
 ],
 "metadata": {
  "kernelspec": {
   "display_name": "new_environment_python",
   "language": "python",
   "name": "python3"
  },
  "language_info": {
   "codemirror_mode": {
    "name": "ipython",
    "version": 3
   },
   "file_extension": ".py",
   "mimetype": "text/x-python",
   "name": "python",
   "nbconvert_exporter": "python",
   "pygments_lexer": "ipython3",
   "version": "3.13.3"
  }
 },
 "nbformat": 4,
 "nbformat_minor": 2
}
