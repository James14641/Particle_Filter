{
 "cells": [
  {
   "cell_type": "code",
   "execution_count": 1,
   "metadata": {},
   "outputs": [
    {
     "name": "stdout",
     "output_type": "stream",
     "text": [
      "True\n",
      "not currently supported.\n"
     ]
    }
   ],
   "source": [
    "import jax\n",
    "import jax.numpy as jnp\n",
    "import matplotlib.pyplot as plt\n",
    "from ipywidgets import interact\n",
    "from ml_collections import ConfigDict\n",
    "from models.ETD_KT_CM_JAX_Vectorised import *\n",
    "from filters import resamplers\n",
    "from filters.filter import EnsembleKalmanFilter, EnsembleKalmanFilter_All\n",
    "from jax import config\n",
    "jax.config.update(\"jax_enable_x64\", True)\n",
    "import numpy as np"
   ]
  },
  {
   "cell_type": "markdown",
   "metadata": {},
   "source": [
    "Initialisation of a twin experiment. "
   ]
  },
  {
   "cell_type": "code",
   "execution_count": 2,
   "metadata": {},
   "outputs": [],
   "source": [
    "signal_params = ConfigDict(KDV_params_2_SALT)\n",
    "ensemble_params = ConfigDict(KDV_params_2_SALT)\n",
    "signal_params.update(E=1,P=3,noise_magnitude = 0.01,stochastic_advection_basis='sin')\n",
    "ensemble_params.update(E=128,P=3,noise_magnitude = 0.01,stochastic_advection_basis='sin')\n"
   ]
  },
  {
   "cell_type": "markdown",
   "metadata": {},
   "source": [
    "Now we specify the models, by calling the class."
   ]
  },
  {
   "cell_type": "code",
   "execution_count": 3,
   "metadata": {},
   "outputs": [],
   "source": [
    "signal_model = ETD_KT_CM_JAX_Vectorised(signal_params)\n",
    "ensemble_model = ETD_KT_CM_JAX_Vectorised(ensemble_params)\n",
    "\n",
    "initial_signal = initial_condition(signal_model.x, signal_params.E, signal_params.initial_condition)\n",
    "initial_ensemble = initial_condition(ensemble_model.x, ensemble_params.E, ensemble_params.initial_condition)\n"
   ]
  },
  {
   "cell_type": "code",
   "execution_count": 4,
   "metadata": {},
   "outputs": [],
   "source": [
    "observation_spatial_frequency = 4\n",
    "observation_locations = np.arange(0,signal_model.x.shape[0],observation_spatial_frequency)\n",
    "observation_noise = 0.01\n",
    "number_of_observations_time = 32\n",
    "observation_temporal_frequency = int(ensemble_model.params.nt/number_of_observations_time)\n",
    "\n",
    "enkf = EnsembleKalmanFilter_All(\n",
    "    n_particles = ensemble_params.E,\n",
    "    n_steps = observation_temporal_frequency,\n",
    "    n_dim = initial_signal.shape[-1],\n",
    "    forward_model = ensemble_model,\n",
    "    signal_model = signal_model,\n",
    "    sigma = observation_noise,\n",
    "    seed = 1,\n",
    "    observation_locations = observation_locations,\n",
    ")\n",
    "\n",
    "\n"
   ]
  },
  {
   "cell_type": "code",
   "execution_count": 5,
   "metadata": {},
   "outputs": [
    {
     "ename": "TypeError",
     "evalue": "ETD_KT_CM_JAX_Vectorised.run() missing 1 required positional argument: 'key'",
     "output_type": "error",
     "traceback": [
      "\u001b[31m---------------------------------------------------------------------------\u001b[39m",
      "\u001b[31mTypeError\u001b[39m                                 Traceback (most recent call last)",
      "\u001b[36mCell\u001b[39m\u001b[36m \u001b[39m\u001b[32mIn[5]\u001b[39m\u001b[32m, line 2\u001b[39m\n\u001b[32m      1\u001b[39m da_steps = number_of_observations_time\n\u001b[32m----> \u001b[39m\u001b[32m2\u001b[39m final, \u001b[38;5;28mall\u001b[39m = \u001b[43menkf\u001b[49m\u001b[43m.\u001b[49m\u001b[43mrun\u001b[49m\u001b[43m(\u001b[49m\u001b[43minitial_ensemble\u001b[49m\u001b[43m,\u001b[49m\u001b[43m \u001b[49m\u001b[43minitial_signal\u001b[49m\u001b[43m,\u001b[49m\u001b[43m \u001b[49m\u001b[43mda_steps\u001b[49m\u001b[43m)\u001b[49m \u001b[38;5;66;03m#the final input is scan length? \u001b[39;00m\n",
      "\u001b[36mFile \u001b[39m\u001b[32m~/Documents/GitHub/Particle_Filter/filters/filter.py:525\u001b[39m, in \u001b[36mEnsembleKalmanFilter_All.run\u001b[39m\u001b[34m(self, initial_particles, initial_signal, n_total)\u001b[39m\n\u001b[32m    522\u001b[39m     signal_new = signal[-\u001b[32m1\u001b[39m,:,:][\u001b[38;5;28;01mNone\u001b[39;00m,...]\n\u001b[32m    523\u001b[39m     \u001b[38;5;28;01mreturn\u001b[39;00m (particles_new, signal_new), (particles, signal, observation)\n\u001b[32m--> \u001b[39m\u001b[32m525\u001b[39m final, \u001b[38;5;28mall\u001b[39m = \u001b[43mjax\u001b[49m\u001b[43m.\u001b[49m\u001b[43mlax\u001b[49m\u001b[43m.\u001b[49m\u001b[43mscan\u001b[49m\u001b[43m(\u001b[49m\u001b[43mscan_fn\u001b[49m\u001b[43m,\u001b[49m\u001b[43m \u001b[49m\u001b[43m(\u001b[49m\u001b[43minitial_particles\u001b[49m\u001b[43m[\u001b[49m\u001b[38;5;28;43;01mNone\u001b[39;49;00m\u001b[43m,\u001b[49m\u001b[43m.\u001b[49m\u001b[43m.\u001b[49m\u001b[43m.\u001b[49m\u001b[43m]\u001b[49m\u001b[43m,\u001b[49m\u001b[43m \u001b[49m\u001b[43minitial_signal\u001b[49m\u001b[43m[\u001b[49m\u001b[38;5;28;43;01mNone\u001b[39;49;00m\u001b[43m,\u001b[49m\u001b[43m.\u001b[49m\u001b[43m.\u001b[49m\u001b[43m.\u001b[49m\u001b[43m]\u001b[49m\u001b[43m)\u001b[49m\u001b[43m,\u001b[49m\u001b[43m \u001b[49m\u001b[43mjnp\u001b[49m\u001b[43m.\u001b[49m\u001b[43marange\u001b[49m\u001b[43m(\u001b[49m\u001b[43mn_total\u001b[49m\u001b[43m)\u001b[49m\u001b[43m)\u001b[49m\n\u001b[32m    526\u001b[39m \u001b[38;5;66;03m#final = jnp.concatenate(final, axis=0)#final.reshape(-1, self.n_particles, self.n_dim)  # reshape to (n_steps, n_particles, n_dim)\u001b[39;00m\n\u001b[32m    527\u001b[39m \u001b[38;5;66;03m#all = jnp.concatenate(all, axis=0)#all.reshape(-1, self.n_particles, self.n_dim)  # reshape to (n_steps, n_particles, n_dim)\u001b[39;00m\n\u001b[32m    528\u001b[39m \u001b[38;5;28;01mreturn\u001b[39;00m final, \u001b[38;5;28mall\u001b[39m\n",
      "    \u001b[31m[... skipping hidden 10 frame]\u001b[39m\n",
      "\u001b[36mFile \u001b[39m\u001b[32m~/Documents/GitHub/Particle_Filter/filters/filter.py:520\u001b[39m, in \u001b[36mEnsembleKalmanFilter_All.run.<locals>.scan_fn\u001b[39m\u001b[34m(val, i)\u001b[39m\n\u001b[32m    518\u001b[39m particles_old = particles[-\u001b[32m1\u001b[39m,:,:]\u001b[38;5;66;03m# initially we do not have this dimension.\u001b[39;00m\n\u001b[32m    519\u001b[39m signal_old = signal[-\u001b[32m1\u001b[39m,:,:]\n\u001b[32m--> \u001b[39m\u001b[32m520\u001b[39m particles, signal, observation = \u001b[38;5;28;43mself\u001b[39;49m\u001b[43m.\u001b[49m\u001b[43mrun_step\u001b[49m\u001b[43m(\u001b[49m\u001b[43mparticles_old\u001b[49m\u001b[43m,\u001b[49m\u001b[43m \u001b[49m\u001b[43msignal_old\u001b[49m\u001b[43m)\u001b[49m \u001b[38;5;66;03m# \u001b[39;00m\n\u001b[32m    521\u001b[39m particles_new = particles[-\u001b[32m1\u001b[39m,:,:][\u001b[38;5;28;01mNone\u001b[39;00m,...]\n\u001b[32m    522\u001b[39m signal_new = signal[-\u001b[32m1\u001b[39m,:,:][\u001b[38;5;28;01mNone\u001b[39;00m,...]\n",
      "\u001b[36mFile \u001b[39m\u001b[32m~/Documents/GitHub/Particle_Filter/filters/filter.py:501\u001b[39m, in \u001b[36mEnsembleKalmanFilter_All.run_step\u001b[39m\u001b[34m(self, particles, signal)\u001b[39m\n\u001b[32m    499\u001b[39m \u001b[38;5;28;01mdef\u001b[39;00m\u001b[38;5;250m \u001b[39m\u001b[34mrun_step\u001b[39m(\u001b[38;5;28mself\u001b[39m, particles, signal):\n\u001b[32m    500\u001b[39m     \u001b[38;5;28mself\u001b[39m.key, obs_key, sampling_key = jax.random.split(\u001b[38;5;28mself\u001b[39m.key, \u001b[32m3\u001b[39m)\n\u001b[32m--> \u001b[39m\u001b[32m501\u001b[39m     signal = \u001b[38;5;28;43mself\u001b[39;49m\u001b[43m.\u001b[49m\u001b[43madvance_signal\u001b[49m\u001b[43m(\u001b[49m\u001b[43msignal\u001b[49m\u001b[43m)\u001b[49m\u001b[38;5;66;03m# self.nstep update\u001b[39;00m\n\u001b[32m    502\u001b[39m     particles = \u001b[38;5;28mself\u001b[39m.predict(particles)\u001b[38;5;66;03m# all time output. \u001b[39;00m\n\u001b[32m    503\u001b[39m     observation = \u001b[38;5;28mself\u001b[39m.observation_from_signal(signal[-\u001b[32m1\u001b[39m,:,:], obs_key)\n",
      "\u001b[36mFile \u001b[39m\u001b[32m~/Documents/GitHub/Particle_Filter/filters/filter.py:462\u001b[39m, in \u001b[36mEnsembleKalmanFilter_All.advance_signal\u001b[39m\u001b[34m(self, signal_position)\u001b[39m\n\u001b[32m    461\u001b[39m \u001b[38;5;28;01mdef\u001b[39;00m\u001b[38;5;250m \u001b[39m\u001b[34madvance_signal\u001b[39m(\u001b[38;5;28mself\u001b[39m, signal_position):\n\u001b[32m--> \u001b[39m\u001b[32m462\u001b[39m     _, signal = \u001b[38;5;28;43mself\u001b[39;49m\u001b[43m.\u001b[49m\u001b[43msignal_model\u001b[49m\u001b[43m.\u001b[49m\u001b[43mrun\u001b[49m\u001b[43m(\u001b[49m\u001b[43msignal_position\u001b[49m\u001b[43m,\u001b[49m\u001b[43m \u001b[49m\u001b[38;5;28;43mself\u001b[39;49m\u001b[43m.\u001b[49m\u001b[43mn_steps\u001b[49m\u001b[43m,\u001b[49m\u001b[43m \u001b[49m\u001b[38;5;28;43;01mNone\u001b[39;49;00m\u001b[43m)\u001b[49m\n\u001b[32m    463\u001b[39m     \u001b[38;5;28;01mreturn\u001b[39;00m signal\n",
      "\u001b[31mTypeError\u001b[39m: ETD_KT_CM_JAX_Vectorised.run() missing 1 required positional argument: 'key'"
     ]
    }
   ],
   "source": [
    "da_steps = number_of_observations_time\n",
    "final, all = enkf.run(initial_ensemble, initial_signal, da_steps) #the final input is scan length? "
   ]
  },
  {
   "cell_type": "code",
   "execution_count": 24,
   "metadata": {},
   "outputs": [
    {
     "name": "stdout",
     "output_type": "stream",
     "text": [
      "Final state shape: (32, 125, 128, 256) (32, 125, 1, 256) (32, 1, 256)\n",
      "nt: 4000 4000\n",
      "Particles shape: (4000, 128, 256)\n",
      "Observations shape: (32, 1, 256)\n"
     ]
    }
   ],
   "source": [
    "print(\"Final state shape:\", all[0].shape,all[1].shape,all[2].shape)\n",
    "print('nt:', ensemble_model.params.nt,32*125)\n",
    "\n",
    "particles = jnp.concatenate(all[0], axis=0)\n",
    "print(\"Particles shape:\", particles.shape)\n",
    "signal = jnp.concatenate(all[1], axis=0)\n",
    "observations = all[2]\n",
    "print(\"Observations shape:\", observations.shape)\n"
   ]
  },
  {
   "cell_type": "code",
   "execution_count": null,
   "metadata": {},
   "outputs": [
    {
     "name": "stdout",
     "output_type": "stream",
     "text": [
      "Time step shape: 4000\n"
     ]
    },
    {
     "data": {
      "application/vnd.jupyter.widget-view+json": {
       "model_id": "52788bc6e98644989d1ee183aa4fd2ea",
       "version_major": 2,
       "version_minor": 0
      },
      "text/plain": [
       "interactive(children=(IntSlider(value=1999, description='time_step', max=3999), Output()), _dom_classes=('widg…"
      ]
     },
     "metadata": {},
     "output_type": "display_data"
    },
    {
     "data": {
      "text/plain": [
       "<function __main__.interactive_plot(time_step)>"
      ]
     },
     "execution_count": 27,
     "metadata": {},
     "output_type": "execute_result"
    }
   ],
   "source": [
    "time_step = ensemble_model.params.nt    \n",
    "print(\"Time step shape:\", time_step)\n",
    "def interactive_plot(time_step):\n",
    "    plt.figure(figsize=(10, 5))\n",
    "    plt.plot(signal_model.x, signal[time_step, 0, :], color='k', label='signal')\n",
    "    plt.plot(signal_model.x, particles[time_step, :, :].T, color='b', alpha=0.3, linewidth=0.5, label='particles')\n",
    "    plt.xlabel('x')\n",
    "    plt.ylabel('Value')\n",
    "    plt.title(f'Signal and Particles at time Step {time_step}')\n",
    "    plt.legend(['signal', 'particles'])\n",
    "    plt.show()\n",
    "\n",
    "interact(interactive_plot, time_step=(0, time_step - 1))"
   ]
  },
  {
   "cell_type": "markdown",
   "metadata": {},
   "source": [
    "Put in the initial condition."
   ]
  }
 ],
 "metadata": {
  "kernelspec": {
   "display_name": "new_environment_python",
   "language": "python",
   "name": "python3"
  },
  "language_info": {
   "codemirror_mode": {
    "name": "ipython",
    "version": 3
   },
   "file_extension": ".py",
   "mimetype": "text/x-python",
   "name": "python",
   "nbconvert_exporter": "python",
   "pygments_lexer": "ipython3",
   "version": "3.13.3"
  }
 },
 "nbformat": 4,
 "nbformat_minor": 2
}
