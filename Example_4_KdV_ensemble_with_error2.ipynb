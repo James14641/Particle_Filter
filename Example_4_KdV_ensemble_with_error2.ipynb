{
 "cells": [
  {
   "cell_type": "code",
   "execution_count": 1,
   "metadata": {},
   "outputs": [],
   "source": [
    "import jax\n",
    "import jax.numpy as jnp\n",
    "import matplotlib.pyplot as plt\n",
    "from ipywidgets import interact\n",
    "from ml_collections import ConfigDict\n",
    "from models.ETD_KT_CM_JAX_Vectorised import *\n",
    "from filters import resamplers\n",
    "from filters.filter import ParticleFilterAll as ParticleFilter\n",
    "jax.config.update(\"jax_platform_name\", \"cpu\")\n",
    "import metrics.ensemble as ens_metrics"
   ]
  },
  {
   "cell_type": "code",
   "execution_count": 2,
   "metadata": {},
   "outputs": [
    {
     "name": "stdout",
     "output_type": "stream",
     "text": [
      "Advection_basis_name: none\n",
      "E: 1\n",
      "Forcing_basis_name: none\n",
      "P: 1\n",
      "S: 0\n",
      "c_0: 0\n",
      "c_1: 1\n",
      "c_2: 0.0\n",
      "c_3: 2.0e-05\n",
      "c_4: 0.0\n",
      "dt: 0.001\n",
      "equation_name: KdV\n",
      "initial_condition: gaussian\n",
      "method: Dealiased_SETDRK4\n",
      "noise_magnitude: 0.0\n",
      "nx: 256\n",
      "tmax: 1\n",
      "xmax: 1\n",
      "xmin: 0\n",
      "\n"
     ]
    }
   ],
   "source": [
    "signal_params = ConfigDict(KDV_params_2)\n",
    "print(signal_params)"
   ]
  },
  {
   "cell_type": "code",
   "execution_count": 3,
   "metadata": {},
   "outputs": [
    {
     "name": "stdout",
     "output_type": "stream",
     "text": [
      "Advection_basis_name: constant\n",
      "E: 10\n",
      "Forcing_basis_name: none\n",
      "P: 1\n",
      "S: 0\n",
      "c_0: 0\n",
      "c_1: 1\n",
      "c_2: 0.0\n",
      "c_3: 2.0e-05\n",
      "c_4: 0.0\n",
      "dt: 0.001\n",
      "equation_name: KdV\n",
      "initial_condition: gaussian\n",
      "method: Dealiased_SETDRK4\n",
      "noise_magnitude: 0.01\n",
      "nx: 256\n",
      "tmax: 1\n",
      "xmax: 1\n",
      "xmin: 0\n",
      "\n"
     ]
    }
   ],
   "source": [
    "ensemble_params = ConfigDict(KDV_params_2_SALT)\n",
    "print(ensemble_params)"
   ]
  },
  {
   "cell_type": "markdown",
   "metadata": {},
   "source": [
    "Next, we specify a signal, by choosing a deterministic solver, "
   ]
  },
  {
   "cell_type": "code",
   "execution_count": 4,
   "metadata": {},
   "outputs": [],
   "source": [
    "signal_params.update(E=1,method='Dealiased_ETDRK4',P=0,S=0,tmax=1,nmax=256*4)\n",
    "ensemble_params.update(E=128,noise_magnitude=0.001,P=32,tmax=1,nmax=256*4)"
   ]
  },
  {
   "cell_type": "markdown",
   "metadata": {},
   "source": [
    "Now we continue to define a stochastic ensemble"
   ]
  },
  {
   "cell_type": "markdown",
   "metadata": {},
   "source": [
    "Now we specify the models, by calling the class."
   ]
  },
  {
   "cell_type": "code",
   "execution_count": 5,
   "metadata": {},
   "outputs": [
    {
     "name": "stdout",
     "output_type": "stream",
     "text": [
      "multinomial, systematic, no_resampling, default\n",
      "(1, 1, 256)\n",
      "(1, 128, 256)\n"
     ]
    }
   ],
   "source": [
    "signal_model_1 = ETD_KT_CM_JAX_Vectorised(signal_params)\n",
    "signal_model_2 = ETD_KT_CM_JAX_Vectorised(signal_params)\n",
    "signal_model_3 = ETD_KT_CM_JAX_Vectorised(signal_params)\n",
    "\n",
    "ensemble_model_1 = ETD_KT_CM_JAX_Vectorised(ensemble_params)\n",
    "ensemble_model_2 = ETD_KT_CM_JAX_Vectorised(ensemble_params)\n",
    "ensemble_model_3 = ETD_KT_CM_JAX_Vectorised(ensemble_params)\n",
    "\n",
    "initial_signal = initial_condition(signal_model_1.x, signal_params.E, signal_params.initial_condition)[None,...]\n",
    "initial_ensemble = initial_condition(ensemble_model_1.x, ensemble_params.E, ensemble_params.initial_condition)[None,...]\n",
    "available_resamplers = \", \".join(resamplers.keys())\n",
    "\n",
    "print(available_resamplers)\n",
    "print(initial_signal.shape)\n",
    "print(initial_ensemble.shape)"
   ]
  },
  {
   "cell_type": "code",
   "execution_count": 6,
   "metadata": {},
   "outputs": [
    {
     "name": "stdout",
     "output_type": "stream",
     "text": [
      "(1, 1, 256)\n",
      "(1, 128, 256)\n"
     ]
    }
   ],
   "source": [
    "print(initial_signal.shape)\n",
    "print(initial_ensemble.shape)"
   ]
  },
  {
   "cell_type": "code",
   "execution_count": 7,
   "metadata": {},
   "outputs": [],
   "source": [
    "obs_frequency = 32\n",
    "observation_noise = 1e-10\n",
    "observation_locations_params = jnp.arange(0,len(signal_model_1.x),obs_frequency)\n",
    "#observation_locations_params = None\n",
    "pf_multinomial = ParticleFilter(\n",
    "    n_particles = ensemble_params.E,\n",
    "    n_steps = 10,\n",
    "    n_dim = initial_signal.shape[-1],\n",
    "    forward_model = ensemble_model_1,\n",
    "    signal_model = signal_model_1,\n",
    "    sigma = observation_noise,# this seems to be different than the sigma for the xi.\n",
    "    seed = 11,\n",
    "    resampling='multinomial',\n",
    "    observation_locations = observation_locations_params,\n",
    ")\n",
    "\n",
    "pf_systematic = ParticleFilter(\n",
    "    n_particles = ensemble_params.E,\n",
    "    n_steps = 10,\n",
    "    n_dim = initial_signal.shape[-1],\n",
    "    forward_model = ensemble_model_2,\n",
    "    signal_model = signal_model_2,\n",
    "    sigma = observation_noise,# this seems to be different than the sigma for the xi.\n",
    "    seed = 11,\n",
    "    resampling='systematic',\n",
    "    observation_locations = observation_locations_params,\n",
    ")\n",
    "\n",
    "pf_no_resampling = ParticleFilter(\n",
    "    n_particles = ensemble_params.E,\n",
    "    n_steps = 10,\n",
    "    n_dim = initial_signal.shape[-1],\n",
    "    forward_model = ensemble_model_3,\n",
    "    signal_model = signal_model_3,\n",
    "    sigma = observation_noise,# this seems to be different than the sigma for the xi.\n",
    "    seed = 11,\n",
    "    resampling='no_resampling',\n",
    "    observation_locations = observation_locations_params,\n",
    ")"
   ]
  },
  {
   "cell_type": "code",
   "execution_count": 8,
   "metadata": {},
   "outputs": [
    {
     "name": "stdout",
     "output_type": "stream",
     "text": [
      "(1000, 1, 256)\n"
     ]
    }
   ],
   "source": [
    "final_systematic, all_systematic = pf_systematic.run(initial_ensemble, initial_signal, signal_model_1.nmax) \n",
    "final_multinomial, all_multinomial = pf_multinomial.run(initial_ensemble, initial_signal, signal_model_1.nmax) \n",
    "final_no_resampling, all_no_resampling = pf_no_resampling.run(initial_ensemble, initial_signal, signal_model_1.nmax)\n",
    "print(all_systematic[2].shape)"
   ]
  },
  {
   "cell_type": "code",
   "execution_count": null,
   "metadata": {},
   "outputs": [
    {
     "name": "stdout",
     "output_type": "stream",
     "text": [
      "(1000, 10, 128, 256)\n",
      "(1000, 10, 1, 256)\n",
      "(1000, 1, 256)\n"
     ]
    }
   ],
   "source": [
    "print(f\"Particles: {all_systematic[0].shape}\")\n",
    "print(f\"Signal: {all_systematic[1].shape}\")\n",
    "print(f\"Observations {all_systematic[2].shape}\")"
   ]
  },
  {
   "cell_type": "code",
   "execution_count": 9,
   "metadata": {},
   "outputs": [
    {
     "name": "stdout",
     "output_type": "stream",
     "text": [
      "3\n"
     ]
    }
   ],
   "source": [
    "print(len(all_systematic))"
   ]
  },
  {
   "cell_type": "code",
   "execution_count": null,
   "metadata": {},
   "outputs": [
    {
     "name": "stdout",
     "output_type": "stream",
     "text": [
      "(1000, 1, 256)\n"
     ]
    }
   ],
   "source": [
    "print(all_systematic[2].shape)\n",
    "print(all_systematic[2])"
   ]
  },
  {
   "cell_type": "markdown",
   "metadata": {},
   "source": [
    "Put in the initial condition."
   ]
  },
  {
   "cell_type": "code",
   "execution_count": null,
   "metadata": {},
   "outputs": [],
   "source": [
    "particles_systematic = jnp.concatenate([initial_ensemble[None,...], all_systematic[0]], axis=0)\n",
    "particles_multinomial = jnp.concatenate([initial_ensemble[None,...], all_multinomial[0]], axis=0)\n",
    "particles_no_resampling = jnp.concatenate([initial_ensemble[None,...], all_no_resampling[0]], axis=0)\n",
    "\n",
    "signal = jnp.concatenate([initial_signal[None,...], all_systematic[1]], axis=0)\n",
    "print(f\"Particles Shape: {particles_systematic.shape} is (N_da_steps+1, N_particles, N_dim)\")\n",
    "print(f\"Signal Shape: {signal.shape} is (N_da_steps+1, 1,  N_dim)\")\n",
    "observations = all_systematic[2]\n",
    "print(f\"Observations Shape: {observations.shape} is (N_da_steps, 1,  N_dim)\")\n",
    "print(f\"needs fixing, this should be (N_da_steps, N_obs_dim, N_dim)\")"
   ]
  },
  {
   "cell_type": "code",
   "execution_count": null,
   "metadata": {},
   "outputs": [],
   "source": [
    "def plot(da_step):\n",
    "    plt.plot(signal_model_1.x, signal[da_step,0,:], color='k',label='signal')\n",
    "    \n",
    "    plt.plot(signal_model_1.x, particles_systematic[da_step,:,:].T, color='b',linewidth=0.01)\n",
    "    plt.plot(signal_model_1.x, particles_systematic[da_step,0,:].T, color='b',label='systematic',linewidth=0.01)\n",
    "\n",
    "    plt.plot(signal_model_1.x, particles_no_resampling[da_step,:,:].T, color='r',linewidth=0.01)\n",
    "    plt.plot(signal_model_1.x, particles_no_resampling[da_step,0,:].T, color='r',label='no resampling',linewidth=0.01)\n",
    "    \n",
    "    plt.scatter(signal_model_1.x[::obs_frequency], observations[da_step,0,::obs_frequency], color='r',label='observations')\n",
    "    plt.legend()\n",
    "    plt.show()\n",
    "\n",
    "interact(plot, da_step=(0, signal_model_1.nmax))"
   ]
  },
  {
   "cell_type": "code",
   "execution_count": null,
   "metadata": {},
   "outputs": [],
   "source": [
    "bias_systematic = ens_metrics.bias(signal[1:,...], particles_systematic[1:,...])\n",
    "rmse_systematic = ens_metrics.rmse(signal[1:,...], particles_systematic[1:,...])\n",
    "crps_systematic = ens_metrics.crps(signal[1:,...], particles_systematic[1:,...])\n",
    "bias_multinomial = ens_metrics.bias(signal[1:,...], particles_multinomial[1:,...])\n",
    "rmse_multinomial = ens_metrics.rmse(signal[1:,...], particles_multinomial[1:,...])\n",
    "crps_multinomial = ens_metrics.crps(signal[1:,...], particles_multinomial[1:,...])\n",
    "bias_no_resampling = ens_metrics.bias(signal[1:,...], particles_no_resampling[1:,...])\n",
    "rmse_no_resampling = ens_metrics.rmse(signal[1:,...], particles_no_resampling[1:,...])\n",
    "crps_no_resampling = ens_metrics.crps(signal[1:,...], particles_no_resampling[1:,...])"
   ]
  },
  {
   "cell_type": "code",
   "execution_count": null,
   "metadata": {},
   "outputs": [],
   "source": [
    "print(bias_systematic.shape, rmse_systematic.shape, crps_systematic.shape)"
   ]
  },
  {
   "cell_type": "code",
   "execution_count": null,
   "metadata": {},
   "outputs": [],
   "source": [
    "# rmse_new = ens_metrics.rmse_2(signal[1:,...], particles[1:,...])"
   ]
  },
  {
   "cell_type": "code",
   "execution_count": null,
   "metadata": {},
   "outputs": [],
   "source": [
    "plt.title('Bias')\n",
    "plt.plot(bias_systematic, label='systematic-resampling')\n",
    "plt.plot(bias_multinomial, label='multinomial-resampling')\n",
    "plt.plot(bias_no_resampling, label='no-resampling')\n",
    "plt.legend()\n",
    "plt.show()"
   ]
  },
  {
   "cell_type": "code",
   "execution_count": null,
   "metadata": {},
   "outputs": [],
   "source": [
    "plt.title('RMSE')\n",
    "plt.plot(rmse_systematic,label=f'systematic-resampling')\n",
    "plt.plot(rmse_multinomial,label=f'multinomial-resampling')\n",
    "plt.plot(rmse_no_resampling,label=f'no-resampling')\n",
    "plt.plot(observation_noise*jnp.ones_like(rmse_systematic),label=f'observation noise magnitude')\n",
    "plt.legend()\n",
    "plt.show()"
   ]
  },
  {
   "cell_type": "code",
   "execution_count": null,
   "metadata": {},
   "outputs": [],
   "source": [
    "plt.title('CRPS')\n",
    "plt.plot(observation_noise*jnp.ones_like(crps_systematic),label=f'observation noise magnitude')\n",
    "plt.plot(crps_systematic,label=f'systematic-resampling')\n",
    "plt.plot(crps_multinomial,label=f'multinomial-resampling')\n",
    "plt.plot(crps_no_resampling,label=f'no-resampling')\n",
    "plt.legend()\n",
    "plt.show()"
   ]
  }
 ],
 "metadata": {
  "kernelspec": {
   "display_name": "Particle_Filter",
   "language": "python",
   "name": "python3"
  },
  "language_info": {
   "codemirror_mode": {
    "name": "ipython",
    "version": 3
   },
   "file_extension": ".py",
   "mimetype": "text/x-python",
   "name": "python",
   "nbconvert_exporter": "python",
   "pygments_lexer": "ipython3",
   "version": "3.13.0"
  }
 },
 "nbformat": 4,
 "nbformat_minor": 2
}
