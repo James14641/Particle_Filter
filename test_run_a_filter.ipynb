{
 "cells": [
  {
   "cell_type": "code",
   "execution_count": 15,
   "metadata": {},
   "outputs": [],
   "source": [
    "import jax\n",
    "import jax.numpy as jnp\n",
    "import matplotlib.pyplot as plt\n",
    "from ipywidgets import interact\n",
    "\n",
    "from ml_collections import ConfigDict\n",
    "from models.ETD_KT_CM_JAX_Vectorised import *#ETD_KT_CM_JAX_Vectorised, initial_condition, KS_params, KDV_params\n",
    "from filters import resamplers\n",
    "from filters.filter import ParticleFilter"
   ]
  },
  {
   "cell_type": "code",
   "execution_count": 16,
   "metadata": {},
   "outputs": [
    {
     "name": "stdout",
     "output_type": "stream",
     "text": [
      "multinomial, systematic, no_resampling, default\n"
     ]
    }
   ],
   "source": [
    "signal_params = ConfigDict(KS_params_2)\n",
    "signal_params.update(E=1,method='ETDRK4', nx = 128)\n",
    "\n",
    "ensemble_params = ConfigDict(KS_params_2)\n",
    "ensemble_params.update(method='SS_ETDRK4_SSP33', nx = 128, S=10, P=1)\n",
    "ensemble_params.update(E=100)\n",
    "ensemble_params.update(sigma=0.5)\n",
    "\n",
    "signal_model = ETD_KT_CM_JAX_Vectorised(signal_params)\n",
    "ensemble_model = ETD_KT_CM_JAX_Vectorised(ensemble_params)\n",
    "\n",
    "initial_signal = initial_condition(signal_model.x, signal_params.E, signal_params.ic)\n",
    "initial_ensemble = initial_condition(ensemble_model.x, ensemble_params.E, ensemble_params.ic) \n",
    "#initial_ensemble += 0.01 * jax.random.normal(jax.random.PRNGKey(56), initial_ensemble.shape) # adding this is totally \"unphysical\"\n",
    "\n",
    "available_resamplers = \", \".join(resamplers.keys())\n",
    "print(available_resamplers)\n"
   ]
  },
  {
   "cell_type": "code",
   "execution_count": 17,
   "metadata": {},
   "outputs": [],
   "source": [
    "pf_systematic = ParticleFilter(\n",
    "    n_particles = ensemble_params.E,\n",
    "    n_steps = 1,\n",
    "    n_dim = initial_signal.shape[-1],\n",
    "    forward_model = ensemble_model,\n",
    "    signal_model = signal_model,\n",
    "    sigma = 0.5,\n",
    "    seed = 11,\n",
    "    resampling='systematic',\n",
    ")\n",
    "# pf_no_resampling = ParticleFilter(\n",
    "#     n_particles = ensemble_params.E,\n",
    "#     n_steps = 1,\n",
    "#     n_dim = initial_signal.shape[-1],\n",
    "#     forward_model = ensemble_model,\n",
    "#     signal_model = signal_model,\n",
    "#     sigma = 0.01,\n",
    "#     seed = 11,\n",
    "#     resampling='no_resampling',\n",
    "# )"
   ]
  },
  {
   "cell_type": "code",
   "execution_count": 18,
   "metadata": {},
   "outputs": [],
   "source": [
    "final, all = pf_systematic.run(initial_ensemble, initial_signal, 1000) #the final input is scan length? "
   ]
  },
  {
   "cell_type": "code",
   "execution_count": 19,
   "metadata": {},
   "outputs": [
    {
     "name": "stdout",
     "output_type": "stream",
     "text": [
      "<class 'tuple'>\n",
      "3\n",
      "(1000, 100, 128)\n",
      "(1000, 1, 128)\n"
     ]
    }
   ],
   "source": [
    "print(type(all))\n",
    "print(len(all))\n",
    "print(all[0].shape) # particles\n",
    "print(all[1].shape) # signal\n",
    "#out shape is (n_total, n_particles, n_dim)"
   ]
  },
  {
   "cell_type": "code",
   "execution_count": 20,
   "metadata": {},
   "outputs": [
    {
     "name": "stdout",
     "output_type": "stream",
     "text": [
      "(1, 128)\n",
      "(1001, 1, 128)\n",
      "(1001, 100, 128)\n"
     ]
    }
   ],
   "source": [
    "print(initial_signal.shape)\n",
    "signal = jnp.concatenate([initial_signal[None,...], all[1]], axis=0)\n",
    "print(signal.shape)\n",
    "particles = jnp.concatenate([initial_ensemble[None,...], all[0]], axis=0)\n",
    "print(particles.shape)"
   ]
  },
  {
   "cell_type": "code",
   "execution_count": 21,
   "metadata": {},
   "outputs": [
    {
     "data": {
      "application/vnd.jupyter.widget-view+json": {
       "model_id": "823153163d564bfc9c678d09eb190e46",
       "version_major": 2,
       "version_minor": 0
      },
      "text/plain": [
       "interactive(children=(IntSlider(value=50, description='da_step', max=101), Output()), _dom_classes=('widget-in…"
      ]
     },
     "metadata": {},
     "output_type": "display_data"
    },
    {
     "data": {
      "text/plain": [
       "<function __main__.plot(da_step)>"
      ]
     },
     "execution_count": 21,
     "metadata": {},
     "output_type": "execute_result"
    }
   ],
   "source": [
    "def plot(da_step):\n",
    "    plt.plot(signal_model.x, signal[da_step,0,:], color='red')\n",
    "    plt.plot(signal_model.x, particles[da_step,:,:].T, color='k', linewidth=0.01)\n",
    "    plt.legend(['signal', 'particles'])\n",
    "    plt.show()\n",
    "\n",
    "interact(plot, da_step=(0, 101))"
   ]
  },
  {
   "cell_type": "code",
   "execution_count": null,
   "metadata": {},
   "outputs": [],
   "source": []
  }
 ],
 "metadata": {
  "kernelspec": {
   "display_name": "virtual_python_environment1",
   "language": "python",
   "name": "python3"
  },
  "language_info": {
   "codemirror_mode": {
    "name": "ipython",
    "version": 3
   },
   "file_extension": ".py",
   "mimetype": "text/x-python",
   "name": "python",
   "nbconvert_exporter": "python",
   "pygments_lexer": "ipython3",
   "version": "3.10.15"
  }
 },
 "nbformat": 4,
 "nbformat_minor": 2
}
