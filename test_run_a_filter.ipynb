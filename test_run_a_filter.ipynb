{
 "cells": [
  {
   "cell_type": "code",
   "execution_count": null,
   "metadata": {},
   "outputs": [],
   "source": [
    "import jax\n",
    "import jax.numpy as jnp\n",
    "import matplotlib.pyplot as plt\n",
    "from ipywidgets import interact\n",
    "\n",
    "from ml_collections import ConfigDict\n",
    "from models.ETD_KT_CM_JAX_Vectorised import ETD_KT_CM_JAX_Vectorised, ic, KS_params, KDV_params\n",
    "from filters import resamplers\n",
    "from filters.filter import ParticleFilter\n"
   ]
  },
  {
   "cell_type": "code",
   "execution_count": null,
   "metadata": {},
   "outputs": [],
   "source": [
    "signal_params = ConfigDict(KS_params)\n",
    "signal_params.update(E=1)\n",
    "ensemble_params = ConfigDict(KS_params)\n",
    "ensemble_params.update(E=100)\n",
    "signal_model = ETD_KT_CM_JAX_Vectorised(signal_params)\n",
    "ensemble_model = ETD_KT_CM_JAX_Vectorised(ensemble_params)\n",
    "\n",
    "initial_signal = ic(signal_model.x, signal_params.E)\n",
    "initial_ensemble = ic(ensemble_model.x, ensemble_params.E) \n",
    "#initial_ensemble += 0.1 * jax.random.normal(jax.random.PRNGKey(56), initial_ensemble.shape)\n",
    "\n",
    "available_resamplers = \", \".join(resamplers.keys())\n",
    "print(available_resamplers)\n"
   ]
  },
  {
   "cell_type": "code",
   "execution_count": null,
   "metadata": {},
   "outputs": [],
   "source": [
    "resampling = 'systematic'\n",
    "\n",
    "pf = ParticleFilter(\n",
    "    n_particles = ensemble_params.E,\n",
    "    n_steps = 100,\n",
    "    n_dim = initial_signal.shape[-1],\n",
    "    forward_model = ensemble_model,\n",
    "    signal_model = signal_model,\n",
    "    sigma = 0.1,\n",
    "    seed = 11,\n",
    "    resampling=resampling,\n",
    ")"
   ]
  },
  {
   "cell_type": "code",
   "execution_count": null,
   "metadata": {},
   "outputs": [],
   "source": [
    "final, all = pf.run(initial_ensemble, initial_signal, 10)"
   ]
  },
  {
   "cell_type": "code",
   "execution_count": null,
   "metadata": {},
   "outputs": [],
   "source": [
    "print(type(all))\n",
    "print(len(all))\n",
    "print(all[0].shape) # particles\n",
    "print(all[1].shape) # signal\n",
    "#out shape is (n_total, n_particles, n_dim)"
   ]
  },
  {
   "cell_type": "code",
   "execution_count": null,
   "metadata": {},
   "outputs": [],
   "source": [
    "def plot(i):\n",
    "    plt.plot(signal_model.x, all[1][i,0,:], color='red')\n",
    "    plt.plot(signal_model.x, all[0][i,:,:].T, color='grey', linewidth=0.5)\n",
    "    plt.show()\n",
    "\n",
    "interact(plot, i=(0, 10))"
   ]
  }
 ],
 "metadata": {
  "kernelspec": {
   "display_name": "Particle_Filter",
   "language": "python",
   "name": "python3"
  },
  "language_info": {
   "codemirror_mode": {
    "name": "ipython",
    "version": 3
   },
   "file_extension": ".py",
   "mimetype": "text/x-python",
   "name": "python",
   "nbconvert_exporter": "python",
   "pygments_lexer": "ipython3",
   "version": "3.13.0"
  }
 },
 "nbformat": 4,
 "nbformat_minor": 2
}
