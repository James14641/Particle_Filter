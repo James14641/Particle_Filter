{
 "cells": [
  {
   "cell_type": "code",
   "execution_count": 84,
   "metadata": {},
   "outputs": [],
   "source": [
    "import jax\n",
    "import jax.numpy as jnp\n",
    "import matplotlib.pyplot as plt\n",
    "from ipywidgets import interact\n",
    "from ml_collections import ConfigDict\n",
    "from models.ETD_KT_CM_JAX_Vectorised import *\n",
    "from filters import resamplers\n",
    "from filters.filter import ParticleFilter\n",
    "jax.config.update(\"jax_enable_x64\", True)\n"
   ]
  },
  {
   "cell_type": "markdown",
   "metadata": {},
   "source": [
    "Initialisation"
   ]
  },
  {
   "cell_type": "code",
   "execution_count": 85,
   "metadata": {},
   "outputs": [
    {
     "name": "stdout",
     "output_type": "stream",
     "text": [
      "Advection_basis_name: none\n",
      "E: 1\n",
      "Forcing_basis_name: none\n",
      "P: 0\n",
      "S: 0\n",
      "c_0: 0\n",
      "c_1: 1\n",
      "c_2: 1\n",
      "c_3: 0.0\n",
      "c_4: 1\n",
      "dt: 0.25\n",
      "equation_name: Kuramoto-Sivashinsky\n",
      "initial_condition: Kassam_Trefethen_KS_IC\n",
      "method: Dealiased_ETDRK4\n",
      "noise_magnitude: 0.0\n",
      "nx: 256\n",
      "tmax: 150\n",
      "xmax: 100.53096491487338\n",
      "xmin: 0\n",
      "\n"
     ]
    }
   ],
   "source": [
    "signal_params = ConfigDict(KS_params)\n",
    "print(signal_params)"
   ]
  },
  {
   "cell_type": "code",
   "execution_count": 86,
   "metadata": {},
   "outputs": [
    {
     "name": "stdout",
     "output_type": "stream",
     "text": [
      "Advection_basis_name: sin\n",
      "E: 1\n",
      "Forcing_basis_name: none\n",
      "P: 1\n",
      "S: 0\n",
      "c_0: 0\n",
      "c_1: 1\n",
      "c_2: 1\n",
      "c_3: 0.0\n",
      "c_4: 1\n",
      "dt: 0.25\n",
      "equation_name: Kuramoto-Sivashinsky\n",
      "initial_condition: Kassam_Trefethen_KS_IC\n",
      "method: Dealiased_SETDRK4\n",
      "noise_magnitude: 0.001\n",
      "nx: 256\n",
      "tmax: 150\n",
      "xmax: 100.53096491487338\n",
      "xmin: 0\n",
      "\n"
     ]
    }
   ],
   "source": [
    "ensemble_params = ConfigDict(KS_params_SALT)\n",
    "print(ensemble_params)"
   ]
  },
  {
   "cell_type": "markdown",
   "metadata": {},
   "source": [
    "Next, we specify a signal, by choosing a deterministic solver, "
   ]
  },
  {
   "cell_type": "code",
   "execution_count": 87,
   "metadata": {},
   "outputs": [],
   "source": [
    "signal_params.update(E=1,method='Dealiased_ETDRK4',nx = 256,P=0,S=0)\n",
    "ensemble_params.update(E=128,sigma=0.01,P=32,stochastic_advection_basis='constant')\n"
   ]
  },
  {
   "cell_type": "markdown",
   "metadata": {},
   "source": [
    "Now we continue to define a stochastic ensemble"
   ]
  },
  {
   "cell_type": "markdown",
   "metadata": {},
   "source": [
    "Now we specify the models, by calling the class."
   ]
  },
  {
   "cell_type": "code",
   "execution_count": 88,
   "metadata": {},
   "outputs": [
    {
     "name": "stdout",
     "output_type": "stream",
     "text": [
      "multinomial, systematic, no_resampling, default\n"
     ]
    }
   ],
   "source": [
    "signal_model = ETD_KT_CM_JAX_Vectorised(signal_params)\n",
    "ensemble_model = ETD_KT_CM_JAX_Vectorised(ensemble_params)\n",
    "\n",
    "import numpy as np\n",
    "initial_signal = initial_condition(signal_model.x, signal_params.E, signal_params.initial_condition)\n",
    "initial_ensemble = initial_condition(ensemble_model.x, ensemble_params.E, ensemble_params.initial_condition)\n",
    "\n",
    "available_resamplers = \", \".join(resamplers.keys())\n",
    "print(available_resamplers)"
   ]
  },
  {
   "cell_type": "code",
   "execution_count": 89,
   "metadata": {},
   "outputs": [
    {
     "name": "stdout",
     "output_type": "stream",
     "text": [
      "(256,)\n",
      "(10,)\n"
     ]
    }
   ],
   "source": [
    "observation_locations = np.arange(10,signal_model.x.shape[0],25)\n",
    "print(signal_model.x.shape)\n",
    "print(observation_locations.shape)\n",
    "pf_systematic = ParticleFilter(\n",
    "    n_particles = ensemble_params.E,\n",
    "    n_steps = 100,\n",
    "    n_dim = initial_signal.shape[-1],\n",
    "    forward_model = ensemble_model,\n",
    "    signal_model = signal_model,\n",
    "    sigma = 0.1,\n",
    "    seed = 11,\n",
    "    resampling=\"no_resampling\",#'default',\n",
    "    observation_locations = observation_locations,\n",
    ")"
   ]
  },
  {
   "cell_type": "code",
   "execution_count": 90,
   "metadata": {},
   "outputs": [],
   "source": [
    "da_steps = 10\n",
    "final, all = pf_systematic.run(initial_ensemble, initial_signal, da_steps) #the final input is scan length? "
   ]
  },
  {
   "cell_type": "markdown",
   "metadata": {},
   "source": [
    "Put in the initial condition."
   ]
  },
  {
   "cell_type": "code",
   "execution_count": 93,
   "metadata": {},
   "outputs": [
    {
     "name": "stdout",
     "output_type": "stream",
     "text": [
      "(10, 1, 10)\n",
      "(11, 128, 256)\n"
     ]
    }
   ],
   "source": [
    "particles =jnp.concatenate([initial_ensemble[None,...], all[0]], axis=0)\n",
    "signal = jnp.concatenate([initial_signal[None,...], all[1]], axis=0)\n",
    "observations = all[2][:,:, observation_locations]\n",
    "print(observations.shape)\n",
    "print(particles.shape)\n",
    "# time, n_ens, space"
   ]
  },
  {
   "cell_type": "code",
   "execution_count": 94,
   "metadata": {},
   "outputs": [
    {
     "data": {
      "application/vnd.jupyter.widget-view+json": {
       "model_id": "ce930b4ef22448e281f81c554ff15a5e",
       "version_major": 2,
       "version_minor": 0
      },
      "text/plain": [
       "interactive(children=(IntSlider(value=5, description='da_step', max=10), Output()), _dom_classes=('widget-inte…"
      ]
     },
     "metadata": {},
     "output_type": "display_data"
    },
    {
     "data": {
      "text/plain": [
       "<function __main__.plot(da_step)>"
      ]
     },
     "execution_count": 94,
     "metadata": {},
     "output_type": "execute_result"
    }
   ],
   "source": [
    "def plot(da_step):\n",
    "    plt.plot(signal_model.x, signal[da_step,0,:], color='k',label='signal')\n",
    "    plt.plot(signal_model.x, particles[da_step,:,:].T, color='b',label='particles',linewidth=0.1)\n",
    "    if da_step > 0:\n",
    "        plt.plot(signal_model.x[observation_locations], observations[da_step-1,0,:], 'ro',label='observations')\n",
    "    plt.show()\n",
    "\n",
    "interact(plot, da_step=(0, da_steps))"
   ]
  }
 ],
 "metadata": {
  "kernelspec": {
   "display_name": "Particle_Filter",
   "language": "python",
   "name": "python3"
  },
  "language_info": {
   "codemirror_mode": {
    "name": "ipython",
    "version": 3
   },
   "file_extension": ".py",
   "mimetype": "text/x-python",
   "name": "python",
   "nbconvert_exporter": "python",
   "pygments_lexer": "ipython3",
   "version": "3.13.0"
  }
 },
 "nbformat": 4,
 "nbformat_minor": 2
}
