{
 "cells": [
  {
   "cell_type": "code",
   "execution_count": 1,
   "metadata": {},
   "outputs": [
    {
     "name": "stdout",
     "output_type": "stream",
     "text": [
      "float64\n"
     ]
    }
   ],
   "source": [
    "import os\n",
    "os.environ[\"JAX_ENABLE_X64\"] = \"true\"\n",
    "import jax\n",
    "import jax.numpy as jnp\n",
    "import matplotlib.pyplot as plt\n",
    "from ipywidgets import interact\n",
    "from ml_collections import ConfigDict\n",
    "from models.ETD_KT_CM_JAX_Vectorised import *\n",
    "from filters import resamplers\n",
    "from filters.filter import ParticleFilter_tempered_jittered, EnsembleKalmanFilter, ParticleFilter\n",
    "from jax import config\n",
    "jax.config.update(\"jax_enable_x64\", True)\n",
    "import numpy as np"
   ]
  },
  {
   "cell_type": "markdown",
   "metadata": {},
   "source": [
    "Initialisation of a twin experiment. "
   ]
  },
  {
   "cell_type": "code",
   "execution_count": 2,
   "metadata": {},
   "outputs": [
    {
     "name": "stdout",
     "output_type": "stream",
     "text": [
      "Advection_basis_name: sin\n",
      "E: 1\n",
      "Forcing_basis_name: none\n",
      "P: 1\n",
      "S: 0\n",
      "c_0: 0\n",
      "c_1: 1\n",
      "c_2: 1\n",
      "c_3: 0.0\n",
      "c_4: 1\n",
      "dt: 0.25\n",
      "equation_name: Kuramoto-Sivashinsky\n",
      "initial_condition: Kassam_Trefethen_KS_IC\n",
      "method: Dealiased_SETDRK4\n",
      "noise_magnitude: 0.001\n",
      "nt: 600\n",
      "nx: 256\n",
      "tmax: 150\n",
      "xmax: 100.53096491487338\n",
      "xmin: 0\n",
      "\n"
     ]
    }
   ],
   "source": [
    "signal_params = ConfigDict(KS_params_SALT)\n",
    "print(signal_params)\n",
    "ensemble_params = ConfigDict(KS_params_SALT)\n",
    "\n",
    "\n",
    "signal_params.update(E=1,P=32,stochastic_advection_basis='constant')\n",
    "ensemble_params.update(E=128,P=32,stochastic_advection_basis='constant')"
   ]
  },
  {
   "cell_type": "markdown",
   "metadata": {},
   "source": [
    "Now we specify the models, by calling the class."
   ]
  },
  {
   "cell_type": "code",
   "execution_count": 3,
   "metadata": {},
   "outputs": [
    {
     "name": "stdout",
     "output_type": "stream",
     "text": [
      "multinomial, systematic, no_resampling, none, default\n"
     ]
    }
   ],
   "source": [
    "signal_model = ETD_KT_CM_JAX_Vectorised(signal_params)\n",
    "ensemble_model = ETD_KT_CM_JAX_Vectorised(ensemble_params)\n",
    "\n",
    "initial_signal = initial_condition(signal_model.x, signal_params.E, signal_params.initial_condition)\n",
    "initial_ensemble = initial_condition(ensemble_model.x, ensemble_params.E, ensemble_params.initial_condition)\n",
    "\n",
    "available_resamplers = \", \".join(resamplers.keys())\n",
    "print(available_resamplers)"
   ]
  },
  {
   "cell_type": "code",
   "execution_count": 4,
   "metadata": {},
   "outputs": [
    {
     "name": "stdout",
     "output_type": "stream",
     "text": [
      "[  0   4   8  12  16  20  24  28  32  36  40  44  48  52  56  60  64  68\n",
      "  72  76  80  84  88  92  96 100 104 108 112 116 120 124 128 132 136 140\n",
      " 144 148 152 156 160 164 168 172 176 180 184 188 192 196 200 204 208 212\n",
      " 216 220 224 228 232 236 240 244 248 252]\n",
      "1\n"
     ]
    }
   ],
   "source": [
    "observation_spatial_frequency = 4\n",
    "observation_locations = np.arange(0,signal_model.x.shape[0],observation_spatial_frequency)\n",
    "observation_noise = 0.1\n",
    "number_of_observations_time = int(ensemble_model.params.nt/1)\n",
    "observation_temporal_frequency = int(ensemble_model.params.nt/number_of_observations_time)\n",
    "\n",
    "print(observation_locations)\n",
    "print(observation_temporal_frequency)\n",
    "pf_systematic = ParticleFilter(\n",
    "    n_particles = ensemble_params.E,\n",
    "    n_steps = observation_temporal_frequency,\n",
    "    n_dim = initial_signal.shape[-1],\n",
    "    forward_model = ensemble_model,\n",
    "    signal_model = signal_model,\n",
    "    sigma = observation_noise,\n",
    "    resampling=\"default\",#'default',\n",
    "    observation_locations = observation_locations,\n",
    ")\n",
    "\n",
    "kal = EnsembleKalmanFilter(\n",
    "    n_particles = ensemble_params.E,\n",
    "    n_steps = observation_temporal_frequency,\n",
    "    n_dim = initial_signal.shape[-1],\n",
    "    forward_model = ensemble_model,\n",
    "    signal_model = signal_model,\n",
    "    sigma = observation_noise,\n",
    "    observation_locations = observation_locations,\n",
    ")"
   ]
  },
  {
   "cell_type": "code",
   "execution_count": 5,
   "metadata": {},
   "outputs": [],
   "source": [
    "key = jax.random.PRNGKey(0)\n",
    "\n",
    "out = pf_systematic.run_step(initial_ensemble, initial_signal, key)\n",
    "out_kal = kal.run_step(initial_ensemble, initial_signal, key)"
   ]
  },
  {
   "cell_type": "code",
   "execution_count": 6,
   "metadata": {},
   "outputs": [
    {
     "name": "stdout",
     "output_type": "stream",
     "text": [
      "3\n",
      "(128, 256) (1, 256) (1, 256)\n"
     ]
    },
    {
     "data": {
      "text/plain": [
       "Array(64, dtype=int64)"
      ]
     },
     "execution_count": 6,
     "metadata": {},
     "output_type": "execute_result"
    }
   ],
   "source": [
    "print(len(out))\n",
    "ps, ss, obser = out\n",
    "print(ps.shape, ss.shape, obser.shape)\n",
    "jnp.count_nonzero(obser)\n"
   ]
  },
  {
   "cell_type": "code",
   "execution_count": 7,
   "metadata": {},
   "outputs": [],
   "source": [
    "da_steps = number_of_observations_time\n",
    "key = jax.random.PRNGKey(0)\n",
    "final, all = pf_systematic.run(initial_ensemble, initial_signal, da_steps,key) #the final input is scan length? "
   ]
  },
  {
   "cell_type": "code",
   "execution_count": 8,
   "metadata": {},
   "outputs": [],
   "source": [
    "final_kal, all_kal = kal.run(initial_ensemble, initial_signal, da_steps,key) #the final input is scan length?"
   ]
  },
  {
   "cell_type": "markdown",
   "metadata": {},
   "source": [
    "Put in the initial condition."
   ]
  },
  {
   "cell_type": "code",
   "execution_count": 9,
   "metadata": {},
   "outputs": [
    {
     "name": "stdout",
     "output_type": "stream",
     "text": [
      "(600, 1, 64)\n",
      "(601, 128, 256)\n",
      "(600, 1, 64)\n",
      "(601, 128, 256)\n"
     ]
    }
   ],
   "source": [
    "particles =jnp.concatenate([initial_ensemble[None,...], all[0]], axis=0)\n",
    "signal = jnp.concatenate([initial_signal[None,...], all[1]], axis=0)\n",
    "observations = jnp.concatenate([initial_signal[None,...], all[2]], axis=0)\n",
    "observations = all[2][:,:, observation_locations]\n",
    "print(observations.shape)\n",
    "print(particles.shape)\n",
    "\n",
    "particles_kal = jnp.concatenate([initial_ensemble[None, ...], all_kal[0]], axis=0)\n",
    "signal_kal = jnp.concatenate([initial_signal[None, ...], all_kal[1]], axis=0)\n",
    "observations_kal = jnp.concatenate([initial_signal[None, ...], all_kal[2]], axis=0)\n",
    "observations_kal = all_kal[2][:, :, observation_locations]\n",
    "print(observations_kal.shape)\n",
    "print(particles_kal.shape)"
   ]
  },
  {
   "cell_type": "code",
   "execution_count": null,
   "metadata": {},
   "outputs": [
    {
     "data": {
      "application/vnd.jupyter.widget-view+json": {
       "model_id": "00bedeb17f3c4a15ab860bf4d172f5f1",
       "version_major": 2,
       "version_minor": 0
      },
      "text/plain": [
       "interactive(children=(IntSlider(value=300, description='da_step', max=600), Output()), _dom_classes=('widget-i…"
      ]
     },
     "metadata": {},
     "output_type": "display_data"
    },
    {
     "data": {
      "text/plain": [
       "<function __main__.plot_all(da_step)>"
      ]
     },
     "execution_count": 11,
     "metadata": {},
     "output_type": "execute_result"
    }
   ],
   "source": [
    "def plot_all(da_step):\n",
    "    plt.figure(figsize=(12, 6))\n",
    "    # Plot signal\n",
    "    plt.plot(signal_model.x, signal[da_step, 0, :], color='k', label='Signal', linewidth=2)\n",
    "    # Plot all particles\n",
    "    plt.plot(signal_model.x, particles[da_step, 0, :].T, color='b', linewidth=0.5, alpha=0.05, label='Particles')\n",
    "\n",
    "    plt.plot(signal_model.x, particles[da_step, :, :].T, color='b', linewidth=0.5, alpha=0.5)\n",
    "    plt.plot(signal_model.x, particles_kal[da_step, 0, :].T, color='g', label='Kalman Signal', linewidth=2)\n",
    "\n",
    "    plt.plot(signal_model.x, particles_kal[da_step, :, :].T, color='g', linewidth=2)\n",
    "\n",
    "    # Plot observations\n",
    "    if da_step > 0:\n",
    "        plt.scatter(signal_model.x[observation_locations], observations[da_step - 1, 0, :], color='r', label='Observations', zorder=5)\n",
    "    plt.xlabel('Spatial Domain', fontsize=14)\n",
    "    plt.ylabel('Amplitude', fontsize=14)\n",
    "    plt.title(f'Data Assimilation Step {da_step}', fontsize=16)\n",
    "    plt.legend(fontsize=12)\n",
    "    plt.grid(True, linestyle='--', alpha=0.7)\n",
    "    plt.show()\n",
    "\n",
    "interact(plot_all, da_step=(0, da_steps))"
   ]
  }
 ],
 "metadata": {
  "kernelspec": {
   "display_name": "new_environment_python",
   "language": "python",
   "name": "python3"
  },
  "language_info": {
   "codemirror_mode": {
    "name": "ipython",
    "version": 3
   },
   "file_extension": ".py",
   "mimetype": "text/x-python",
   "name": "python",
   "nbconvert_exporter": "python",
   "pygments_lexer": "ipython3",
   "version": "3.13.3"
  }
 },
 "nbformat": 4,
 "nbformat_minor": 2
}
